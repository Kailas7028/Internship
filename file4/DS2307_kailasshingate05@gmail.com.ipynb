{
 "cells": [
  {
   "cell_type": "markdown",
   "id": "6a19dca6",
   "metadata": {},
   "source": [
    "# Question 1- Write a Python program to replace all occurrences of a space, comma, or dot with a colon.\n",
    "Sample Text- 'Python Exercises, PHP exercises.'\n",
    "Expected Output: Python:Exercises::PHP:exercises:\n"
   ]
  },
  {
   "cell_type": "code",
   "execution_count": 33,
   "id": "ae77761d",
   "metadata": {},
   "outputs": [
    {
     "data": {
      "text/plain": [
       "'Python:Exercises::PHP:exercises:'"
      ]
     },
     "execution_count": 33,
     "metadata": {},
     "output_type": "execute_result"
    }
   ],
   "source": [
    "import re\n",
    "string='Python Exercises, PHP exercises.'\n",
    "pattern='\\s|,|\\.'\n",
    "new_string=re.sub(pattern,':',string)\n",
    "new_string\n"
   ]
  },
  {
   "cell_type": "markdown",
   "id": "c1168e29",
   "metadata": {},
   "source": [
    "# Question 2-  Write a Python program to find all words starting with 'a' or 'e' in a given string."
   ]
  },
  {
   "cell_type": "code",
   "execution_count": 34,
   "id": "62cc4e1a",
   "metadata": {},
   "outputs": [
    {
     "name": "stdout",
     "output_type": "stream",
     "text": [
      "['exercises']\n"
     ]
    }
   ],
   "source": [
    "#string='Python Exercises, PHP exercises.'\n",
    "pattern1=r'\\ba\\w+|\\be\\w+'\n",
    "result=re.findall(pattern1,string)\n",
    "print(result)"
   ]
  },
  {
   "cell_type": "markdown",
   "id": "dc035dd7",
   "metadata": {},
   "source": [
    "# Question 3- Create a function in python to find all words that are at least 4 characters long in a string. The use of the re.compile() method is mandatory."
   ]
  },
  {
   "cell_type": "code",
   "execution_count": 35,
   "id": "2b504767",
   "metadata": {},
   "outputs": [
    {
     "name": "stdout",
     "output_type": "stream",
     "text": [
      "['Python', 'Exercises', 'exercises']\n"
     ]
    }
   ],
   "source": [
    "class StringMatch:\n",
    "   \n",
    "    def MinWordLeangth4(self,string):\n",
    "        pattern=re.compile(r'\\w{4}\\w+')\n",
    "        print(pattern.findall(string))\n",
    "       \n",
    "    \n",
    "\n",
    "ob1=StringMatch()\n",
    "ob1.MinWordLeangth4(string)\n",
    "\n"
   ]
  },
  {
   "cell_type": "markdown",
   "id": "fc0d6f20",
   "metadata": {},
   "source": [
    "# Question 4- Create a function in python to find all three, four, and five character words in a string. The use of the re.compile() method is mandatory."
   ]
  },
  {
   "cell_type": "code",
   "execution_count": 36,
   "id": "e754330a",
   "metadata": {},
   "outputs": [
    {
     "name": "stdout",
     "output_type": "stream",
     "text": [
      "['PHP', '1234', '12345']\n"
     ]
    }
   ],
   "source": [
    "string='Python Exercises, PHP exercises.1234 12345'\n",
    "class StringMatch:\n",
    "   \n",
    "    def MinWordLeangth_3_4_5(self,string):\n",
    "        pattern=re.compile(r'\\b\\w{3,5}\\b')\n",
    "        print(pattern.findall(string))\n",
    "       \n",
    "    \n",
    "\n",
    "ob2=StringMatch()\n",
    "ob2.MinWordLeangth_3_4_5(string)\n"
   ]
  },
  {
   "cell_type": "markdown",
   "id": "c4b0b30d",
   "metadata": {},
   "source": [
    "# Question 5- Create a function in Python to remove the parenthesis in a list of strings. The use of the re.compile() method is mandatory.\n",
    "Sample Text: [\"example (.com)\", \"hr@fliprobo (.com)\", \"github (.com)\", \"Hello (Data Science World)\", \"Data (Scientist)\"]\n",
    "Expected Output:\n",
    "example.com\n",
    "hr@fliprobo.com\n",
    "github.com\n",
    "Hello Data Science World\n",
    "Data Scientist\n"
   ]
  },
  {
   "cell_type": "code",
   "execution_count": 37,
   "id": "721c35b2",
   "metadata": {},
   "outputs": [
    {
     "name": "stdout",
     "output_type": "stream",
     "text": [
      "example .com\n",
      "hr@fliprobo .com\n",
      "github .com\n",
      "Hello Data Science World\n",
      "Data Scientist\n"
     ]
    }
   ],
   "source": [
    "class StringMatch:\n",
    "   \n",
    "    def formatString(self,l):\n",
    "        pattern=re.compile(r'\\(|\\)')\n",
    "        for word in l:\n",
    "            print(pattern.sub('',word))\n",
    "       \n",
    "    \n",
    "\n",
    "ob3=StringMatch()\n",
    "l=[\"example (.com)\", \"hr@fliprobo (.com)\", \"github (.com)\", \"Hello (Data Science World)\", \"Data (Scientist)\"]\n",
    "ob3.formatString(l)\n"
   ]
  },
  {
   "cell_type": "markdown",
   "id": "7194283e",
   "metadata": {},
   "source": [
    "# Question 6- Write a python program to remove the parenthesis area from the text stored in the text file using Regular Expression.\n",
    "Sample Text: [\"example (.com)\", \"hr@fliprobo (.com)\", \"github (.com)\", \"Hello (Data Science World)\", \"Data (Scientist)\"]\n",
    "Expected Output: [\"example\", \"hr@fliprobo\", \"github\", \"Hello\", \"Data\"]\n",
    "Note- Store given sample text in the text file and then to remove the parenthesis area from the text.\n"
   ]
  },
  {
   "cell_type": "code",
   "execution_count": 38,
   "id": "ce4fc070",
   "metadata": {},
   "outputs": [],
   "source": [
    "import re\n",
    "l=[\"example (.com)\", \"hr@fliprobo (.com)\", \"github (.com)\", \"Hello (Data Science World)\", \"Data (Scientist)\"]\n",
    "pattern=re.compile(r'\\(|\\)')\n",
    "\n",
    "#**************************writing list into file\n",
    "\n",
    "with open('test14.txt','w') as f1:\n",
    "    for word in l:\n",
    "        f1.write(word+'\\n')\n",
    "\n",
    "#**************************reading string from file\n",
    "\n",
    "with open('test14.txt','r') as f2:\n",
    "    string=f2.read()\n",
    "\n",
    "#**************************replacing pattern \n",
    "string=pattern.sub('',string)\n",
    "#*******************************writing formatted data into file\n",
    "with open('test14.txt','w') as f3:\n",
    "    f3.write(string)\n",
    "\n",
    "\n"
   ]
  },
  {
   "cell_type": "markdown",
   "id": "597b3927",
   "metadata": {},
   "source": [
    "# Question 7- Write a regular expression in Python to split a string into uppercase letters.\n",
    "Sample text: “ImportanceOfRegularExpressionsInPython”\n",
    "Expected Output: [‘Importance’, ‘Of’, ‘Regular’, ‘Expression’, ‘In’, ‘Python’]\n"
   ]
  },
  {
   "cell_type": "code",
   "execution_count": 39,
   "id": "62762645",
   "metadata": {},
   "outputs": [
    {
     "data": {
      "text/plain": [
       "['Importance', 'Of', 'Regular', 'Expressions', 'In', 'Python']"
      ]
     },
     "execution_count": 39,
     "metadata": {},
     "output_type": "execute_result"
    }
   ],
   "source": [
    "text='ImportanceOfRegularExpressionsInPython'\n",
    "#print(re.findall(r'[A-Z]',text))\n",
    "\n",
    "\n",
    "data=re.findall(r\"[A-Z][a-z]+\", text)\n",
    "data"
   ]
  },
  {
   "cell_type": "markdown",
   "id": "3886c861",
   "metadata": {},
   "source": [
    "# Question 8- Create a function in python to insert spaces between words starting with numbers.\n",
    "Sample Text: “RegularExpression1IsAn2ImportantTopic3InPython\"\n",
    "Expected Output: RegularExpression 1IsAn 2ImportantTopic 3InPython\n"
   ]
  },
  {
   "cell_type": "code",
   "execution_count": 40,
   "id": "8890d238",
   "metadata": {},
   "outputs": [
    {
     "data": {
      "text/plain": [
       "'RegularExpression 1 IsAn 2 ImportantTopic 3 InPython'"
      ]
     },
     "execution_count": 40,
     "metadata": {},
     "output_type": "execute_result"
    }
   ],
   "source": [
    "Text1= \"RegularExpression1IsAn2ImportantTopic3InPython\"\n",
    "data=re.sub(r'([0-9])',r' \\1 ',Text1)\n",
    "data"
   ]
  },
  {
   "cell_type": "markdown",
   "id": "eb3c5e65",
   "metadata": {},
   "source": [
    "# Question 9- Create a function in python to insert spaces between words starting with capital letters or with numbers.\n",
    "Sample Text: “RegularExpression1IsAn2ImportantTopic3InPython\"\n",
    "Expected Output:  RegularExpression 1 IsAn 2 ImportantTopic 3 InPython\n"
   ]
  },
  {
   "cell_type": "code",
   "execution_count": 41,
   "id": "90710fc2",
   "metadata": {},
   "outputs": [
    {
     "data": {
      "text/plain": [
       "'Regular Expression 1 Is An 2 Important Topic 3 In Python'"
      ]
     },
     "execution_count": 41,
     "metadata": {},
     "output_type": "execute_result"
    }
   ],
   "source": [
    "Text1= \"RegularExpression1IsAn2ImportantTopic3InPython\"\n",
    "data=' '.join(re.findall(r'[A-Z][a-z]+|\\d+',Text1))\n",
    "data"
   ]
  },
  {
   "cell_type": "markdown",
   "id": "6f83fda7",
   "metadata": {},
   "source": [
    "# Question 10- Write a python program to extract email address from the text stored in the text file using Regular Expression.\n",
    "Sample Text- Hello my name is Data Science and my email address is xyz@domain.com and alternate email address is xyz.abc@sdomain.domain.com. \n",
    "Please contact us at hr@fliprobo.com for further information. \n",
    "Expected Output: \n",
    "['xyz@domain.com', 'xyz.abc@sdomain.domain.com']\n",
    "['hr@fliprobo.com']\n",
    "\n",
    "Note- Store given sample text in the text file and then extract email addresses.\n",
    "\n"
   ]
  },
  {
   "cell_type": "code",
   "execution_count": 49,
   "id": "1d576d91",
   "metadata": {},
   "outputs": [
    {
     "data": {
      "text/plain": [
       "['xyz@domain.com', 'xyz.abc@sdomain.domain.com.', 'hr@fliprobo.com']"
      ]
     },
     "execution_count": 49,
     "metadata": {},
     "output_type": "execute_result"
    }
   ],
   "source": [
    "string='Hello my name is Data Science and my email address is xyz@domain.com and alternate email address is xyz.abc@sdomain.domain.com. Please contact us at hr@fliprobo.com for further information'\n",
    "f1=open('sample_test.txt','w')\n",
    "f1.write(string)\n",
    "f2=open('sample_test.txt','r')\n",
    "string=f2.read()\n",
    "pattern=re.compile('\\S+@\\S+')\n",
    "email=pattern.findall(string)\n",
    "email"
   ]
  },
  {
   "cell_type": "markdown",
   "id": "18620a37",
   "metadata": {},
   "source": [
    "# Question 11- Write a Python program to match a string that contains only upper and lowercase letters, numbers, and underscores."
   ]
  },
  {
   "cell_type": "code",
   "execution_count": 57,
   "id": "de8eafd1",
   "metadata": {},
   "outputs": [
    {
     "name": "stdout",
     "output_type": "stream",
     "text": [
      "['This', 'is', 'the', '123', '_', 'STRING_Example']\n"
     ]
    }
   ],
   "source": [
    "def fun(string):\n",
    "    pattern=re.compile(r'\\w+')\n",
    "    print(pattern.findall(string))\n",
    "    \n",
    "string='This is, the @123!_ STRING_Example ~ ! @ # $ % ^ & * ( ) - = + \\  | '' \"\" ; : . > , < / ?  '\n",
    "fun(string)"
   ]
  },
  {
   "cell_type": "markdown",
   "id": "90275ed0",
   "metadata": {},
   "source": [
    "# Question 12- Write a Python program where a string will start with a specific number. "
   ]
  },
  {
   "cell_type": "code",
   "execution_count": 12,
   "id": "720168b0",
   "metadata": {},
   "outputs": [
    {
     "data": {
      "text/plain": [
       "['2kailas']"
      ]
     },
     "execution_count": 12,
     "metadata": {},
     "output_type": "execute_result"
    }
   ],
   "source": [
    "string='2kailas'\n",
    "pattern=re.compile(r'^2\\S+')\n",
    "string=pattern.findall(string)\n",
    "string"
   ]
  },
  {
   "cell_type": "markdown",
   "id": "d88033b9",
   "metadata": {},
   "source": [
    "# Question 13- Write a Python program to remove leading zeros from an IP address"
   ]
  },
  {
   "cell_type": "code",
   "execution_count": 13,
   "id": "ddc2978a",
   "metadata": {},
   "outputs": [
    {
     "name": "stdout",
     "output_type": "stream",
     "text": [
      "10.10.256.56\n"
     ]
    }
   ],
   "source": [
    "pattern=re.compile(r'\\b0')\n",
    "ip='010.010.256.056'\n",
    "print(pattern.sub('',ip))"
   ]
  },
  {
   "cell_type": "markdown",
   "id": "ce3e282c",
   "metadata": {},
   "source": [
    "# Question 14- Write a regular expression in python to match a date string in the form of Month name followed by day number and year stored in a text file.\n",
    "Sample text :  ' On August 15th 1947 that India was declared independent from British colonialism, and the reins of control were handed over to the leaders of the Country’.\n",
    "Expected Output- August 15th 1947\n",
    "Note- Store given sample text in the text file and then extract the date string asked format.\n"
   ]
  },
  {
   "cell_type": "code",
   "execution_count": 14,
   "id": "ab825ff0",
   "metadata": {},
   "outputs": [
    {
     "name": "stdout",
     "output_type": "stream",
     "text": [
      "August 15th 1947\n"
     ]
    }
   ],
   "source": [
    "pattern=re.compile(r'\\b[A-Z]\\w+\\s\\d{2}th\\s\\d{4}')\n",
    "text=' On August 15th 1947 that India was declared independent from British colonialism, and the reins of control were handed over to the leaders of the Country'\n",
    "date=pattern.search(text)\n",
    "print(date.group())\n"
   ]
  },
  {
   "cell_type": "markdown",
   "id": "64a06a40",
   "metadata": {},
   "source": [
    "# Question 15- Write a Python program to search some literals strings in a string. \n",
    "Sample text : 'The quick brown fox jumps over the lazy dog.'\n",
    "Searched words : 'fox', 'dog', 'horse'\n"
   ]
  },
  {
   "cell_type": "code",
   "execution_count": 15,
   "id": "79e84c6a",
   "metadata": {},
   "outputs": [
    {
     "name": "stdout",
     "output_type": "stream",
     "text": [
      "['fox', 'dog', 'horse']\n"
     ]
    }
   ],
   "source": [
    "pattern=re.compile(r'\\b\\wo\\w+')\n",
    "text='The quick brown fox jumps over the lazy dog.horse'\n",
    "print(pattern.findall(text))\n"
   ]
  },
  {
   "cell_type": "markdown",
   "id": "d6a6046c",
   "metadata": {},
   "source": [
    "# Question 16- Write a Python program to search a literals string in a string and also find the location within the original string where the pattern occurs\n",
    "Sample text : 'The quick brown fox jumps over the lazy dog.'\n",
    "Searched words : 'fox'\n"
   ]
  },
  {
   "cell_type": "code",
   "execution_count": 16,
   "id": "a43dec98",
   "metadata": {},
   "outputs": [
    {
     "name": "stdout",
     "output_type": "stream",
     "text": [
      "fox index start at  16\n"
     ]
    }
   ],
   "source": [
    "pattern=re.compile(r'\\b\\wo\\w+')\n",
    "text='The quick brown fox jumps over the lazy dog.horse'\n",
    "animal=pattern.search(text)\n",
    "print(animal.group(),'index start at ',animal.start())\n"
   ]
  },
  {
   "cell_type": "markdown",
   "id": "94080496",
   "metadata": {},
   "source": [
    "# Question 17- Write a Python program to find the substrings within a string.\n",
    "Sample text : 'Python exercises, PHP exercises, C# exercises'\n",
    "Pattern : 'exercises'.\n"
   ]
  },
  {
   "cell_type": "code",
   "execution_count": 17,
   "id": "e703f321",
   "metadata": {},
   "outputs": [
    {
     "name": "stdout",
     "output_type": "stream",
     "text": [
      "['exercises', 'exercises', 'exercises']\n"
     ]
    }
   ],
   "source": [
    "text='Python exercises, PHP exercises, C# exercises'\n",
    "sub_string=re.findall('exercises',text)\n",
    "print(sub_string)"
   ]
  },
  {
   "cell_type": "markdown",
   "id": "ace8384a",
   "metadata": {},
   "source": [
    "# Question 18- Write a Python program to find the occurrence and position of the substrings within a string."
   ]
  },
  {
   "cell_type": "code",
   "execution_count": 18,
   "id": "97a26b96",
   "metadata": {},
   "outputs": [
    {
     "name": "stdout",
     "output_type": "stream",
     "text": [
      "1 occurrence of exercises start at 7 and end at 16 \n",
      "\n",
      "2 occurrence of exercises start at 22 and end at 31 \n",
      "\n",
      "3 occurrence of exercises start at 36 and end at 45 \n",
      "\n",
      "{'exercises': ['occurrence=', 3]}\n"
     ]
    }
   ],
   "source": [
    "text='Python exercises, PHP exercises, C# exercises'\n",
    "string_info={}\n",
    "try:\n",
    "    for string in re.finditer('exercises',text):\n",
    "        if string.group() in string_info.keys():\n",
    "            string_info[string.group()][1]+=1\n",
    "            n+=1\n",
    "            print(f'{n} occurrence of {string.group()} start at {string.start()} and end at {string.end()} \\n')\n",
    "            \n",
    "        else:\n",
    "            n=1\n",
    "            string_info[string.group()]=['occurrence=',1]\n",
    "            print(f'{n} occurrence of {string.group()} start at {string.start()} and end at {string.end()} \\n')\n",
    "            \n",
    "    print(string_info)  \n",
    "except Exception as e:\n",
    "    print(e)\n",
    "    "
   ]
  },
  {
   "cell_type": "markdown",
   "id": "a42ed318",
   "metadata": {},
   "source": [
    "# Question 19- Write a Python program to convert a date of yyyy-mm-dd format to dd-mm-yyyy format."
   ]
  },
  {
   "cell_type": "code",
   "execution_count": 19,
   "id": "7235c8c3",
   "metadata": {},
   "outputs": [
    {
     "name": "stdout",
     "output_type": "stream",
     "text": [
      "2022-05-16\n"
     ]
    }
   ],
   "source": [
    "import re\n",
    "\n",
    "def formatt(date):\n",
    "    return re.sub('([0-9]{4})-([0-1][0-9])-(\\[0-3][0-9])','\\\\3-\\\\2-\\\\1',date)\n",
    "date='2022-05-16'\n",
    "\n",
    "print(formatt(date))"
   ]
  },
  {
   "cell_type": "markdown",
   "id": "7a8f42c4",
   "metadata": {},
   "source": [
    "# Question 20- Create a function in python to find all decimal numbers with a precision of 1 or 2 in a string. The use of the re.compile() method is mandatory."
   ]
  },
  {
   "cell_type": "code",
   "execution_count": 20,
   "id": "036eb858",
   "metadata": {},
   "outputs": [
    {
     "name": "stdout",
     "output_type": "stream",
     "text": [
      "['2721.99', '2810.5']\n"
     ]
    }
   ],
   "source": [
    "def d_num(string):\n",
    "    pattern=re.compile(r'\\d+\\.\\d{1,2}')\n",
    "    return pattern.findall(string)\n",
    "string='i have brought the shoes at rupees 2721.99 and sold them at rupees 2810.5, i got profit near around 90 '\n",
    "\n",
    "print(d_num(string))"
   ]
  },
  {
   "cell_type": "markdown",
   "id": "f96dd1a9",
   "metadata": {},
   "source": [
    "# Question 21- Write a Python program to separate and print the numbers and their position of a given string."
   ]
  },
  {
   "cell_type": "code",
   "execution_count": 21,
   "id": "ce5831df",
   "metadata": {},
   "outputs": [
    {
     "name": "stdout",
     "output_type": "stream",
     "text": [
      "2721.99\n",
      "psition (35, 42)\n",
      "2810.5\n",
      "psition (67, 73)\n",
      "90\n",
      "psition (100, 102)\n"
     ]
    }
   ],
   "source": [
    "def find_no(input_data):\n",
    "    for number in re.finditer(r'\\d+(\\.?)(\\d+)?',input_data):\n",
    "        print(number.group())\n",
    "        print(f'psition {number.start(),number.end()}')\n",
    "string='i have brought the shoes at rupees 2721.99 and sold them at rupees 2810.5, i got profit near around 90 '\n",
    "find_no(string)\n",
    "    "
   ]
  },
  {
   "cell_type": "markdown",
   "id": "bb9d53cf",
   "metadata": {},
   "source": [
    "# Question 22- Write a regular expression in python program to extract maximum/largest numeric value from a string.\n",
    "Sample Text:  'My marks in each semester are: 947, 896, 926, 524, 734, 950, 642'\n",
    "Expected Output: 950\n"
   ]
  },
  {
   "cell_type": "code",
   "execution_count": 22,
   "id": "eb451143",
   "metadata": {},
   "outputs": [
    {
     "name": "stdout",
     "output_type": "stream",
     "text": [
      "950\n"
     ]
    }
   ],
   "source": [
    "def max_no(smp):\n",
    "    pattern=re.compile(r'\\d+')\n",
    "    return pattern.findall(smp)\n",
    "   \n",
    "Text= 'My marks in each semester are: 947, 896, 926, 524, 734, 950, 642'\n",
    "print(max(max_no(Text)))"
   ]
  },
  {
   "cell_type": "markdown",
   "id": "99b1a82a",
   "metadata": {},
   "source": [
    "# Question 23- Create a function in python to insert spaces between words starting with capital letters.\n",
    "Sample Text: “RegularExpressionIsAnImportantTopicInPython\"\n",
    "Expected Output: Regular Expression Is An Important Topic In Python\n"
   ]
  },
  {
   "cell_type": "code",
   "execution_count": 23,
   "id": "eb4bb354",
   "metadata": {},
   "outputs": [
    {
     "name": "stdout",
     "output_type": "stream",
     "text": [
      "Regular Expression Is An Important Topic In Python\n"
     ]
    }
   ],
   "source": [
    "def format_string(string):\n",
    "    \n",
    "    return ' '.join( re.findall(r'([A-Z][a-z]+)',string))\n",
    "string='RegularExpressionIsAnImportantTopicInPython'\n",
    "print(format_string(string))\n",
    "    "
   ]
  },
  {
   "cell_type": "markdown",
   "id": "ce6bbea1",
   "metadata": {},
   "source": [
    "# Question 24- Python regex to find sequences of one upper case letter followed by lower case letters"
   ]
  },
  {
   "cell_type": "code",
   "execution_count": 24,
   "id": "aa3c475a",
   "metadata": {},
   "outputs": [
    {
     "name": "stdout",
     "output_type": "stream",
     "text": [
      "['Regular', 'Expression', 'Is', 'An', 'Important', 'Topic', 'In', 'Python']\n"
     ]
    }
   ],
   "source": [
    "def format_string(string):\n",
    "    \n",
    "    return re.findall(r'([A-Z][a-z]+)',string)\n",
    "string='RegularExpressionIsAnImportantTopicInPython'\n",
    "print(format_string(string))"
   ]
  },
  {
   "cell_type": "markdown",
   "id": "fd17807c",
   "metadata": {},
   "source": [
    "# Question 25- Write a Python program to remove continuous duplicate words from Sentence using Regular Expression.\n",
    "Sample Text: \"Hello hello world world\"\n",
    "Expected Output: Hello hello world\n"
   ]
  },
  {
   "cell_type": "code",
   "execution_count": 25,
   "id": "7d1670e3",
   "metadata": {},
   "outputs": [
    {
     "name": "stdout",
     "output_type": "stream",
     "text": [
      "Hello hello world\n"
     ]
    }
   ],
   "source": [
    "def unique(string):\n",
    "    print(re.sub(r'(\\w+)( \\1)+',r'\\1',string))\n",
    "    \n",
    "string=\"Hello hello world world world\"\n",
    "unique(string)"
   ]
  },
  {
   "cell_type": "markdown",
   "id": "7f627cf4",
   "metadata": {},
   "source": [
    "# Question 26-  Write a python program using RegEx to accept string ending with alphanumeric character."
   ]
  },
  {
   "cell_type": "code",
   "execution_count": 45,
   "id": "93861f62",
   "metadata": {},
   "outputs": [
    {
     "name": "stdout",
     "output_type": "stream",
     "text": [
      "Enter The string which end with alphanumeric stringkailas@\n"
     ]
    }
   ],
   "source": [
    "pattern=re.compile(r'\\w+$')\n",
    "try:\n",
    "    def user_input():\n",
    "        input1=input('Enter The string which end with alphanumeric string')\n",
    "        end=pattern.findall(input1)\n",
    "        if len(end)!=0 and input1==end[0]:\n",
    "            print('Input succesfully taken')\n",
    "       \n",
    "#         else:\n",
    "#             raise Exception('The string end with alphanumeric  string will be accepted only')\n",
    "except Exception as e:\n",
    "    print(e)\n",
    "    \n",
    "user_input()\n",
    "    "
   ]
  },
  {
   "cell_type": "markdown",
   "id": "ca8330a0",
   "metadata": {},
   "source": [
    "# Question 27-Write a python program using RegEx to extract the hashtags.\n",
    "Sample Text:  \"\"\"RT @kapil_kausik: #Doltiwal I mean #xyzabc is \"hurt\" by #Demonetization as the same has rendered USELESS <ed><U+00A0><U+00BD><ed><U+00B1><U+0089> \"acquired funds\" No wo\"\"\"\n",
    "Expected Output: ['#Doltiwal', '#xyzabc', '#Demonetization']\n"
   ]
  },
  {
   "cell_type": "code",
   "execution_count": 57,
   "id": "cdb0d0f0",
   "metadata": {},
   "outputs": [
    {
     "name": "stdout",
     "output_type": "stream",
     "text": [
      "['#Doltiwal', '#xyzabc', '#Demonetization']\n"
     ]
    }
   ],
   "source": [
    "string='RT @kapil_kausik: #Doltiwal I mean #xyzabc is \"hurt\" by #Demonetization as the same has rendered USELESS <U+00A0><U+00BD><U+00B1><U+0089> \"acquired funds\" No wo'\n",
    "pattern=re.compile(r'#\\w+')\n",
    "data=pattern.findall(string)\n",
    "print(data)"
   ]
  },
  {
   "cell_type": "markdown",
   "id": "1aff2353",
   "metadata": {},
   "source": [
    "# Question 28- Write a python program using RegEx to remove <U+..> like symbols\n",
    "Check the below sample text, there are strange symbols something of the sort <U+..> all over the place. You need to come up with a general Regex expression that will cover all such symbols.\n",
    "Sample Text: \"@Jags123456 Bharat band on 28??<ed><U+00A0><U+00BD><ed><U+00B8><U+0082>Those who  are protesting #demonetization  are all different party leaders\"\n",
    "Expected Output: @Jags123456 Bharat band on 28??<ed><ed>Those who  are protesting #demonetization  are all different party leaders\n"
   ]
  },
  {
   "cell_type": "code",
   "execution_count": 87,
   "id": "0214eafb",
   "metadata": {},
   "outputs": [
    {
     "name": "stdout",
     "output_type": "stream",
     "text": [
      "@Jags123456 Bharat band on 28??Those who are protesting #demonetization are all different party leaders\n"
     ]
    }
   ],
   "source": [
    "def pattern(string_input):\n",
    "    print(re.sub(r'<U\\+\\w+>','',string_input))\n",
    "pattern('@Jags123456 Bharat band on 28??<U+00A0><U+00BD><U+00B8><U+0082>Those who are protesting #demonetization are all different party leaders')"
   ]
  },
  {
   "cell_type": "markdown",
   "id": "ef27e558",
   "metadata": {},
   "source": [
    "# Question 29- Write a python program to extract dates from the text stored in the text file.\n",
    "Sample Text: Ron was born on 12-09-1992 and he was admitted to school 15-12-1999.\n",
    "Note- Store this sample text in the file and then extract dates.\n"
   ]
  },
  {
   "cell_type": "code",
   "execution_count": 5,
   "id": "05ff03cd",
   "metadata": {},
   "outputs": [
    {
     "name": "stdout",
     "output_type": "stream",
     "text": [
      "['12-09-1992', '15-12-1999']\n"
     ]
    }
   ],
   "source": [
    "def find_date(string):\n",
    "    pattern=re.compile(r'[0-3][0-9]-[0-1][0-9]-\\d{4}')\n",
    "    print(pattern.findall(string))\n",
    "    \n",
    "string=' Ron was born on 12-09-1992 and he was admitted to school 15-12-1999. Note- Store this sample text in the file and then extract dates.'\n",
    "find_date(string)"
   ]
  },
  {
   "cell_type": "markdown",
   "id": "c4124f49",
   "metadata": {},
   "source": [
    "# Question 30- Create a function in python to remove all words from a string of length between 2 and 4.\n",
    "The use of the re.compile() method is mandatory.\n",
    "Sample Text: \"The following example creates an ArrayList with a capacity of 50 elements. 4 elements are then added to the ArrayList and the ArrayList is trimmed accordingly.\"\n",
    "Expected Output:  following example creates ArrayList a capacity elements. 4 elements added ArrayList ArrayList trimmed accordingly.\n"
   ]
  },
  {
   "cell_type": "code",
   "execution_count": 31,
   "id": "e461cc85",
   "metadata": {},
   "outputs": [
    {
     "name": "stdout",
     "output_type": "stream",
     "text": [
      " following example creates  ArrayList  a capacity   elements. 4 elements   added   ArrayList   ArrayList  trimmed accordingly.\n"
     ]
    }
   ],
   "source": [
    "def rmv(string):\n",
    "    pattern=re.compile(r'\\b\\S{2,4}\\b')\n",
    "    print(pattern.sub('',string))\n",
    "    \n",
    "string='The following example creates an ArrayList with a capacity of 50 elements. 4 elements are then added to the ArrayList and the ArrayList is trimmed accordingly.'\n",
    "rmv(string)"
   ]
  },
  {
   "cell_type": "code",
   "execution_count": null,
   "id": "59fa96f2",
   "metadata": {},
   "outputs": [],
   "source": []
  }
 ],
 "metadata": {
  "kernelspec": {
   "display_name": "Python 3 (ipykernel)",
   "language": "python",
   "name": "python3"
  },
  "language_info": {
   "codemirror_mode": {
    "name": "ipython",
    "version": 3
   },
   "file_extension": ".py",
   "mimetype": "text/x-python",
   "name": "python",
   "nbconvert_exporter": "python",
   "pygments_lexer": "ipython3",
   "version": "3.9.12"
  }
 },
 "nbformat": 4,
 "nbformat_minor": 5
}

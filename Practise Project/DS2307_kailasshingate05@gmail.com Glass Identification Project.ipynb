{
  "nbformat": 4,
  "nbformat_minor": 0,
  "metadata": {
    "colab": {
      "provenance": []
    },
    "kernelspec": {
      "name": "python3",
      "display_name": "Python 3"
    },
    "language_info": {
      "name": "python"
    }
  },
  "cells": [
    {
      "cell_type": "code",
      "execution_count": 1,
      "metadata": {
        "id": "b4rZ1xFjvc9G"
      },
      "outputs": [],
      "source": [
        "#importing libraries\n",
        "import pandas as pd\n",
        "import numpy as np\n",
        "import matplotlib.pyplot as plt\n",
        "import seaborn as sns\n",
        "from sklearn.preprocessing import StandardScaler,PowerTransformer\n",
        "from sklearn.model_selection import train_test_split,cross_val_score,GridSearchCV\n",
        "from sklearn.feature_selection import SelectKBest,f_classif,chi2\n",
        "from statsmodels.stats.outliers_influence import variance_inflation_factor\n",
        "from sklearn.linear_model import LogisticRegression\n",
        "from sklearn.metrics import accuracy_score,confusion_matrix\n",
        "from sklearn.ensemble import RandomForestClassifier,GradientBoostingClassifier,BaggingClassifier,AdaBoostClassifier\n",
        "from sklearn.svm import SVC\n",
        "from sklearn.neighbors import KNeighborsClassifier\n",
        "from sklearn.tree import DecisionTreeClassifier\n",
        "import warnings\n",
        "warnings.filterwarnings('ignore')"
      ]
    },
    {
      "cell_type": "code",
      "source": [
        "df=pd.read_csv('https://raw.githubusercontent.com/dsrscientist/dataset3/main/glass.csv',names=['ID Number','Refractive Index','Sodium','Magnesium','Aluminum','Silicon','Potassium','Calcium','Barium','Iron','Glasstype'])\n",
        "df"
      ],
      "metadata": {
        "colab": {
          "base_uri": "https://localhost:8080/",
          "height": 423
        },
        "id": "TJwNhlwuvmU9",
        "outputId": "ffcfc9a1-93d0-4d32-ddfe-54ac24802e48"
      },
      "execution_count": 2,
      "outputs": [
        {
          "output_type": "execute_result",
          "data": {
            "text/plain": [
              "     ID Number  Refractive Index  Sodium  Magnesium  Aluminum  Silicon  \\\n",
              "0            1           1.52101   13.64       4.49      1.10    71.78   \n",
              "1            2           1.51761   13.89       3.60      1.36    72.73   \n",
              "2            3           1.51618   13.53       3.55      1.54    72.99   \n",
              "3            4           1.51766   13.21       3.69      1.29    72.61   \n",
              "4            5           1.51742   13.27       3.62      1.24    73.08   \n",
              "..         ...               ...     ...        ...       ...      ...   \n",
              "209        210           1.51623   14.14       0.00      2.88    72.61   \n",
              "210        211           1.51685   14.92       0.00      1.99    73.06   \n",
              "211        212           1.52065   14.36       0.00      2.02    73.42   \n",
              "212        213           1.51651   14.38       0.00      1.94    73.61   \n",
              "213        214           1.51711   14.23       0.00      2.08    73.36   \n",
              "\n",
              "     Potassium  Calcium  Barium  Iron  Glasstype  \n",
              "0         0.06     8.75    0.00   0.0          1  \n",
              "1         0.48     7.83    0.00   0.0          1  \n",
              "2         0.39     7.78    0.00   0.0          1  \n",
              "3         0.57     8.22    0.00   0.0          1  \n",
              "4         0.55     8.07    0.00   0.0          1  \n",
              "..         ...      ...     ...   ...        ...  \n",
              "209       0.08     9.18    1.06   0.0          7  \n",
              "210       0.00     8.40    1.59   0.0          7  \n",
              "211       0.00     8.44    1.64   0.0          7  \n",
              "212       0.00     8.48    1.57   0.0          7  \n",
              "213       0.00     8.62    1.67   0.0          7  \n",
              "\n",
              "[214 rows x 11 columns]"
            ],
            "text/html": [
              "\n",
              "  <div id=\"df-0c38acc0-cd86-4547-9cba-6616c44615cf\" class=\"colab-df-container\">\n",
              "    <div>\n",
              "<style scoped>\n",
              "    .dataframe tbody tr th:only-of-type {\n",
              "        vertical-align: middle;\n",
              "    }\n",
              "\n",
              "    .dataframe tbody tr th {\n",
              "        vertical-align: top;\n",
              "    }\n",
              "\n",
              "    .dataframe thead th {\n",
              "        text-align: right;\n",
              "    }\n",
              "</style>\n",
              "<table border=\"1\" class=\"dataframe\">\n",
              "  <thead>\n",
              "    <tr style=\"text-align: right;\">\n",
              "      <th></th>\n",
              "      <th>ID Number</th>\n",
              "      <th>Refractive Index</th>\n",
              "      <th>Sodium</th>\n",
              "      <th>Magnesium</th>\n",
              "      <th>Aluminum</th>\n",
              "      <th>Silicon</th>\n",
              "      <th>Potassium</th>\n",
              "      <th>Calcium</th>\n",
              "      <th>Barium</th>\n",
              "      <th>Iron</th>\n",
              "      <th>Glasstype</th>\n",
              "    </tr>\n",
              "  </thead>\n",
              "  <tbody>\n",
              "    <tr>\n",
              "      <th>0</th>\n",
              "      <td>1</td>\n",
              "      <td>1.52101</td>\n",
              "      <td>13.64</td>\n",
              "      <td>4.49</td>\n",
              "      <td>1.10</td>\n",
              "      <td>71.78</td>\n",
              "      <td>0.06</td>\n",
              "      <td>8.75</td>\n",
              "      <td>0.00</td>\n",
              "      <td>0.0</td>\n",
              "      <td>1</td>\n",
              "    </tr>\n",
              "    <tr>\n",
              "      <th>1</th>\n",
              "      <td>2</td>\n",
              "      <td>1.51761</td>\n",
              "      <td>13.89</td>\n",
              "      <td>3.60</td>\n",
              "      <td>1.36</td>\n",
              "      <td>72.73</td>\n",
              "      <td>0.48</td>\n",
              "      <td>7.83</td>\n",
              "      <td>0.00</td>\n",
              "      <td>0.0</td>\n",
              "      <td>1</td>\n",
              "    </tr>\n",
              "    <tr>\n",
              "      <th>2</th>\n",
              "      <td>3</td>\n",
              "      <td>1.51618</td>\n",
              "      <td>13.53</td>\n",
              "      <td>3.55</td>\n",
              "      <td>1.54</td>\n",
              "      <td>72.99</td>\n",
              "      <td>0.39</td>\n",
              "      <td>7.78</td>\n",
              "      <td>0.00</td>\n",
              "      <td>0.0</td>\n",
              "      <td>1</td>\n",
              "    </tr>\n",
              "    <tr>\n",
              "      <th>3</th>\n",
              "      <td>4</td>\n",
              "      <td>1.51766</td>\n",
              "      <td>13.21</td>\n",
              "      <td>3.69</td>\n",
              "      <td>1.29</td>\n",
              "      <td>72.61</td>\n",
              "      <td>0.57</td>\n",
              "      <td>8.22</td>\n",
              "      <td>0.00</td>\n",
              "      <td>0.0</td>\n",
              "      <td>1</td>\n",
              "    </tr>\n",
              "    <tr>\n",
              "      <th>4</th>\n",
              "      <td>5</td>\n",
              "      <td>1.51742</td>\n",
              "      <td>13.27</td>\n",
              "      <td>3.62</td>\n",
              "      <td>1.24</td>\n",
              "      <td>73.08</td>\n",
              "      <td>0.55</td>\n",
              "      <td>8.07</td>\n",
              "      <td>0.00</td>\n",
              "      <td>0.0</td>\n",
              "      <td>1</td>\n",
              "    </tr>\n",
              "    <tr>\n",
              "      <th>...</th>\n",
              "      <td>...</td>\n",
              "      <td>...</td>\n",
              "      <td>...</td>\n",
              "      <td>...</td>\n",
              "      <td>...</td>\n",
              "      <td>...</td>\n",
              "      <td>...</td>\n",
              "      <td>...</td>\n",
              "      <td>...</td>\n",
              "      <td>...</td>\n",
              "      <td>...</td>\n",
              "    </tr>\n",
              "    <tr>\n",
              "      <th>209</th>\n",
              "      <td>210</td>\n",
              "      <td>1.51623</td>\n",
              "      <td>14.14</td>\n",
              "      <td>0.00</td>\n",
              "      <td>2.88</td>\n",
              "      <td>72.61</td>\n",
              "      <td>0.08</td>\n",
              "      <td>9.18</td>\n",
              "      <td>1.06</td>\n",
              "      <td>0.0</td>\n",
              "      <td>7</td>\n",
              "    </tr>\n",
              "    <tr>\n",
              "      <th>210</th>\n",
              "      <td>211</td>\n",
              "      <td>1.51685</td>\n",
              "      <td>14.92</td>\n",
              "      <td>0.00</td>\n",
              "      <td>1.99</td>\n",
              "      <td>73.06</td>\n",
              "      <td>0.00</td>\n",
              "      <td>8.40</td>\n",
              "      <td>1.59</td>\n",
              "      <td>0.0</td>\n",
              "      <td>7</td>\n",
              "    </tr>\n",
              "    <tr>\n",
              "      <th>211</th>\n",
              "      <td>212</td>\n",
              "      <td>1.52065</td>\n",
              "      <td>14.36</td>\n",
              "      <td>0.00</td>\n",
              "      <td>2.02</td>\n",
              "      <td>73.42</td>\n",
              "      <td>0.00</td>\n",
              "      <td>8.44</td>\n",
              "      <td>1.64</td>\n",
              "      <td>0.0</td>\n",
              "      <td>7</td>\n",
              "    </tr>\n",
              "    <tr>\n",
              "      <th>212</th>\n",
              "      <td>213</td>\n",
              "      <td>1.51651</td>\n",
              "      <td>14.38</td>\n",
              "      <td>0.00</td>\n",
              "      <td>1.94</td>\n",
              "      <td>73.61</td>\n",
              "      <td>0.00</td>\n",
              "      <td>8.48</td>\n",
              "      <td>1.57</td>\n",
              "      <td>0.0</td>\n",
              "      <td>7</td>\n",
              "    </tr>\n",
              "    <tr>\n",
              "      <th>213</th>\n",
              "      <td>214</td>\n",
              "      <td>1.51711</td>\n",
              "      <td>14.23</td>\n",
              "      <td>0.00</td>\n",
              "      <td>2.08</td>\n",
              "      <td>73.36</td>\n",
              "      <td>0.00</td>\n",
              "      <td>8.62</td>\n",
              "      <td>1.67</td>\n",
              "      <td>0.0</td>\n",
              "      <td>7</td>\n",
              "    </tr>\n",
              "  </tbody>\n",
              "</table>\n",
              "<p>214 rows × 11 columns</p>\n",
              "</div>\n",
              "    <div class=\"colab-df-buttons\">\n",
              "\n",
              "  <div class=\"colab-df-container\">\n",
              "    <button class=\"colab-df-convert\" onclick=\"convertToInteractive('df-0c38acc0-cd86-4547-9cba-6616c44615cf')\"\n",
              "            title=\"Convert this dataframe to an interactive table.\"\n",
              "            style=\"display:none;\">\n",
              "\n",
              "  <svg xmlns=\"http://www.w3.org/2000/svg\" height=\"24px\" viewBox=\"0 -960 960 960\">\n",
              "    <path d=\"M120-120v-720h720v720H120Zm60-500h600v-160H180v160Zm220 220h160v-160H400v160Zm0 220h160v-160H400v160ZM180-400h160v-160H180v160Zm440 0h160v-160H620v160ZM180-180h160v-160H180v160Zm440 0h160v-160H620v160Z\"/>\n",
              "  </svg>\n",
              "    </button>\n",
              "\n",
              "  <style>\n",
              "    .colab-df-container {\n",
              "      display:flex;\n",
              "      gap: 12px;\n",
              "    }\n",
              "\n",
              "    .colab-df-convert {\n",
              "      background-color: #E8F0FE;\n",
              "      border: none;\n",
              "      border-radius: 50%;\n",
              "      cursor: pointer;\n",
              "      display: none;\n",
              "      fill: #1967D2;\n",
              "      height: 32px;\n",
              "      padding: 0 0 0 0;\n",
              "      width: 32px;\n",
              "    }\n",
              "\n",
              "    .colab-df-convert:hover {\n",
              "      background-color: #E2EBFA;\n",
              "      box-shadow: 0px 1px 2px rgba(60, 64, 67, 0.3), 0px 1px 3px 1px rgba(60, 64, 67, 0.15);\n",
              "      fill: #174EA6;\n",
              "    }\n",
              "\n",
              "    .colab-df-buttons div {\n",
              "      margin-bottom: 4px;\n",
              "    }\n",
              "\n",
              "    [theme=dark] .colab-df-convert {\n",
              "      background-color: #3B4455;\n",
              "      fill: #D2E3FC;\n",
              "    }\n",
              "\n",
              "    [theme=dark] .colab-df-convert:hover {\n",
              "      background-color: #434B5C;\n",
              "      box-shadow: 0px 1px 3px 1px rgba(0, 0, 0, 0.15);\n",
              "      filter: drop-shadow(0px 1px 2px rgba(0, 0, 0, 0.3));\n",
              "      fill: #FFFFFF;\n",
              "    }\n",
              "  </style>\n",
              "\n",
              "    <script>\n",
              "      const buttonEl =\n",
              "        document.querySelector('#df-0c38acc0-cd86-4547-9cba-6616c44615cf button.colab-df-convert');\n",
              "      buttonEl.style.display =\n",
              "        google.colab.kernel.accessAllowed ? 'block' : 'none';\n",
              "\n",
              "      async function convertToInteractive(key) {\n",
              "        const element = document.querySelector('#df-0c38acc0-cd86-4547-9cba-6616c44615cf');\n",
              "        const dataTable =\n",
              "          await google.colab.kernel.invokeFunction('convertToInteractive',\n",
              "                                                    [key], {});\n",
              "        if (!dataTable) return;\n",
              "\n",
              "        const docLinkHtml = 'Like what you see? Visit the ' +\n",
              "          '<a target=\"_blank\" href=https://colab.research.google.com/notebooks/data_table.ipynb>data table notebook</a>'\n",
              "          + ' to learn more about interactive tables.';\n",
              "        element.innerHTML = '';\n",
              "        dataTable['output_type'] = 'display_data';\n",
              "        await google.colab.output.renderOutput(dataTable, element);\n",
              "        const docLink = document.createElement('div');\n",
              "        docLink.innerHTML = docLinkHtml;\n",
              "        element.appendChild(docLink);\n",
              "      }\n",
              "    </script>\n",
              "  </div>\n",
              "\n",
              "\n",
              "<div id=\"df-44065030-a181-4173-b706-b3e02ff0dd88\">\n",
              "  <button class=\"colab-df-quickchart\" onclick=\"quickchart('df-44065030-a181-4173-b706-b3e02ff0dd88')\"\n",
              "            title=\"Suggest charts.\"\n",
              "            style=\"display:none;\">\n",
              "\n",
              "<svg xmlns=\"http://www.w3.org/2000/svg\" height=\"24px\"viewBox=\"0 0 24 24\"\n",
              "     width=\"24px\">\n",
              "    <g>\n",
              "        <path d=\"M19 3H5c-1.1 0-2 .9-2 2v14c0 1.1.9 2 2 2h14c1.1 0 2-.9 2-2V5c0-1.1-.9-2-2-2zM9 17H7v-7h2v7zm4 0h-2V7h2v10zm4 0h-2v-4h2v4z\"/>\n",
              "    </g>\n",
              "</svg>\n",
              "  </button>\n",
              "\n",
              "<style>\n",
              "  .colab-df-quickchart {\n",
              "      --bg-color: #E8F0FE;\n",
              "      --fill-color: #1967D2;\n",
              "      --hover-bg-color: #E2EBFA;\n",
              "      --hover-fill-color: #174EA6;\n",
              "      --disabled-fill-color: #AAA;\n",
              "      --disabled-bg-color: #DDD;\n",
              "  }\n",
              "\n",
              "  [theme=dark] .colab-df-quickchart {\n",
              "      --bg-color: #3B4455;\n",
              "      --fill-color: #D2E3FC;\n",
              "      --hover-bg-color: #434B5C;\n",
              "      --hover-fill-color: #FFFFFF;\n",
              "      --disabled-bg-color: #3B4455;\n",
              "      --disabled-fill-color: #666;\n",
              "  }\n",
              "\n",
              "  .colab-df-quickchart {\n",
              "    background-color: var(--bg-color);\n",
              "    border: none;\n",
              "    border-radius: 50%;\n",
              "    cursor: pointer;\n",
              "    display: none;\n",
              "    fill: var(--fill-color);\n",
              "    height: 32px;\n",
              "    padding: 0;\n",
              "    width: 32px;\n",
              "  }\n",
              "\n",
              "  .colab-df-quickchart:hover {\n",
              "    background-color: var(--hover-bg-color);\n",
              "    box-shadow: 0 1px 2px rgba(60, 64, 67, 0.3), 0 1px 3px 1px rgba(60, 64, 67, 0.15);\n",
              "    fill: var(--button-hover-fill-color);\n",
              "  }\n",
              "\n",
              "  .colab-df-quickchart-complete:disabled,\n",
              "  .colab-df-quickchart-complete:disabled:hover {\n",
              "    background-color: var(--disabled-bg-color);\n",
              "    fill: var(--disabled-fill-color);\n",
              "    box-shadow: none;\n",
              "  }\n",
              "\n",
              "  .colab-df-spinner {\n",
              "    border: 2px solid var(--fill-color);\n",
              "    border-color: transparent;\n",
              "    border-bottom-color: var(--fill-color);\n",
              "    animation:\n",
              "      spin 1s steps(1) infinite;\n",
              "  }\n",
              "\n",
              "  @keyframes spin {\n",
              "    0% {\n",
              "      border-color: transparent;\n",
              "      border-bottom-color: var(--fill-color);\n",
              "      border-left-color: var(--fill-color);\n",
              "    }\n",
              "    20% {\n",
              "      border-color: transparent;\n",
              "      border-left-color: var(--fill-color);\n",
              "      border-top-color: var(--fill-color);\n",
              "    }\n",
              "    30% {\n",
              "      border-color: transparent;\n",
              "      border-left-color: var(--fill-color);\n",
              "      border-top-color: var(--fill-color);\n",
              "      border-right-color: var(--fill-color);\n",
              "    }\n",
              "    40% {\n",
              "      border-color: transparent;\n",
              "      border-right-color: var(--fill-color);\n",
              "      border-top-color: var(--fill-color);\n",
              "    }\n",
              "    60% {\n",
              "      border-color: transparent;\n",
              "      border-right-color: var(--fill-color);\n",
              "    }\n",
              "    80% {\n",
              "      border-color: transparent;\n",
              "      border-right-color: var(--fill-color);\n",
              "      border-bottom-color: var(--fill-color);\n",
              "    }\n",
              "    90% {\n",
              "      border-color: transparent;\n",
              "      border-bottom-color: var(--fill-color);\n",
              "    }\n",
              "  }\n",
              "</style>\n",
              "\n",
              "  <script>\n",
              "    async function quickchart(key) {\n",
              "      const quickchartButtonEl =\n",
              "        document.querySelector('#' + key + ' button');\n",
              "      quickchartButtonEl.disabled = true;  // To prevent multiple clicks.\n",
              "      quickchartButtonEl.classList.add('colab-df-spinner');\n",
              "      try {\n",
              "        const charts = await google.colab.kernel.invokeFunction(\n",
              "            'suggestCharts', [key], {});\n",
              "      } catch (error) {\n",
              "        console.error('Error during call to suggestCharts:', error);\n",
              "      }\n",
              "      quickchartButtonEl.classList.remove('colab-df-spinner');\n",
              "      quickchartButtonEl.classList.add('colab-df-quickchart-complete');\n",
              "    }\n",
              "    (() => {\n",
              "      let quickchartButtonEl =\n",
              "        document.querySelector('#df-44065030-a181-4173-b706-b3e02ff0dd88 button');\n",
              "      quickchartButtonEl.style.display =\n",
              "        google.colab.kernel.accessAllowed ? 'block' : 'none';\n",
              "    })();\n",
              "  </script>\n",
              "</div>\n",
              "    </div>\n",
              "  </div>\n"
            ]
          },
          "metadata": {},
          "execution_count": 2
        }
      ]
    },
    {
      "cell_type": "code",
      "source": [
        "#checking metadata of dataset\n",
        "df.info()"
      ],
      "metadata": {
        "colab": {
          "base_uri": "https://localhost:8080/"
        },
        "id": "MVW4oXtKvw7V",
        "outputId": "dd14392b-50d8-4979-ad80-ff3de930fa92"
      },
      "execution_count": 3,
      "outputs": [
        {
          "output_type": "stream",
          "name": "stdout",
          "text": [
            "<class 'pandas.core.frame.DataFrame'>\n",
            "RangeIndex: 214 entries, 0 to 213\n",
            "Data columns (total 11 columns):\n",
            " #   Column            Non-Null Count  Dtype  \n",
            "---  ------            --------------  -----  \n",
            " 0   ID Number         214 non-null    int64  \n",
            " 1   Refractive Index  214 non-null    float64\n",
            " 2   Sodium            214 non-null    float64\n",
            " 3   Magnesium         214 non-null    float64\n",
            " 4   Aluminum          214 non-null    float64\n",
            " 5   Silicon           214 non-null    float64\n",
            " 6   Potassium         214 non-null    float64\n",
            " 7   Calcium           214 non-null    float64\n",
            " 8   Barium            214 non-null    float64\n",
            " 9   Iron              214 non-null    float64\n",
            " 10  Glasstype         214 non-null    int64  \n",
            "dtypes: float64(9), int64(2)\n",
            "memory usage: 18.5 KB\n"
          ]
        }
      ]
    },
    {
      "cell_type": "code",
      "source": [
        "#checking null vlaues\n",
        "df.isna().sum()"
      ],
      "metadata": {
        "colab": {
          "base_uri": "https://localhost:8080/"
        },
        "id": "0H5MHAJOv4M8",
        "outputId": "11e9f53b-a9a9-4b0a-804e-b816dc3097ff"
      },
      "execution_count": 4,
      "outputs": [
        {
          "output_type": "execute_result",
          "data": {
            "text/plain": [
              "ID Number           0\n",
              "Refractive Index    0\n",
              "Sodium              0\n",
              "Magnesium           0\n",
              "Aluminum            0\n",
              "Silicon             0\n",
              "Potassium           0\n",
              "Calcium             0\n",
              "Barium              0\n",
              "Iron                0\n",
              "Glasstype           0\n",
              "dtype: int64"
            ]
          },
          "metadata": {},
          "execution_count": 4
        }
      ]
    },
    {
      "cell_type": "code",
      "source": [
        "#check unique values in label\n",
        "df['Glasstype'].unique()"
      ],
      "metadata": {
        "colab": {
          "base_uri": "https://localhost:8080/"
        },
        "id": "DmN9whanv8LN",
        "outputId": "1311788d-0896-4594-93ee-eaddb298f52a"
      },
      "execution_count": 5,
      "outputs": [
        {
          "output_type": "execute_result",
          "data": {
            "text/plain": [
              "array([1, 2, 3, 5, 6, 7])"
            ]
          },
          "metadata": {},
          "execution_count": 5
        }
      ]
    },
    {
      "cell_type": "code",
      "source": [
        "#delete ID Number\n",
        "df.drop('ID Number',axis=1,inplace=True)"
      ],
      "metadata": {
        "id": "QCWahqunv_E8"
      },
      "execution_count": 6,
      "outputs": []
    },
    {
      "cell_type": "code",
      "source": [
        "#check stats of data\n",
        "df.describe()"
      ],
      "metadata": {
        "colab": {
          "base_uri": "https://localhost:8080/",
          "height": 300
        },
        "id": "17k2lFg6wGgk",
        "outputId": "f25ef97a-a431-4046-95a1-849f8f70f56f"
      },
      "execution_count": 7,
      "outputs": [
        {
          "output_type": "execute_result",
          "data": {
            "text/plain": [
              "       Refractive Index      Sodium   Magnesium    Aluminum     Silicon  \\\n",
              "count        214.000000  214.000000  214.000000  214.000000  214.000000   \n",
              "mean           1.518365   13.407850    2.684533    1.444907   72.650935   \n",
              "std            0.003037    0.816604    1.442408    0.499270    0.774546   \n",
              "min            1.511150   10.730000    0.000000    0.290000   69.810000   \n",
              "25%            1.516522   12.907500    2.115000    1.190000   72.280000   \n",
              "50%            1.517680   13.300000    3.480000    1.360000   72.790000   \n",
              "75%            1.519157   13.825000    3.600000    1.630000   73.087500   \n",
              "max            1.533930   17.380000    4.490000    3.500000   75.410000   \n",
              "\n",
              "        Potassium     Calcium      Barium        Iron   Glasstype  \n",
              "count  214.000000  214.000000  214.000000  214.000000  214.000000  \n",
              "mean     0.497056    8.956963    0.175047    0.057009    2.780374  \n",
              "std      0.652192    1.423153    0.497219    0.097439    2.103739  \n",
              "min      0.000000    5.430000    0.000000    0.000000    1.000000  \n",
              "25%      0.122500    8.240000    0.000000    0.000000    1.000000  \n",
              "50%      0.555000    8.600000    0.000000    0.000000    2.000000  \n",
              "75%      0.610000    9.172500    0.000000    0.100000    3.000000  \n",
              "max      6.210000   16.190000    3.150000    0.510000    7.000000  "
            ],
            "text/html": [
              "\n",
              "  <div id=\"df-a80167dd-796f-48dc-b4ca-3f562727fe59\" class=\"colab-df-container\">\n",
              "    <div>\n",
              "<style scoped>\n",
              "    .dataframe tbody tr th:only-of-type {\n",
              "        vertical-align: middle;\n",
              "    }\n",
              "\n",
              "    .dataframe tbody tr th {\n",
              "        vertical-align: top;\n",
              "    }\n",
              "\n",
              "    .dataframe thead th {\n",
              "        text-align: right;\n",
              "    }\n",
              "</style>\n",
              "<table border=\"1\" class=\"dataframe\">\n",
              "  <thead>\n",
              "    <tr style=\"text-align: right;\">\n",
              "      <th></th>\n",
              "      <th>Refractive Index</th>\n",
              "      <th>Sodium</th>\n",
              "      <th>Magnesium</th>\n",
              "      <th>Aluminum</th>\n",
              "      <th>Silicon</th>\n",
              "      <th>Potassium</th>\n",
              "      <th>Calcium</th>\n",
              "      <th>Barium</th>\n",
              "      <th>Iron</th>\n",
              "      <th>Glasstype</th>\n",
              "    </tr>\n",
              "  </thead>\n",
              "  <tbody>\n",
              "    <tr>\n",
              "      <th>count</th>\n",
              "      <td>214.000000</td>\n",
              "      <td>214.000000</td>\n",
              "      <td>214.000000</td>\n",
              "      <td>214.000000</td>\n",
              "      <td>214.000000</td>\n",
              "      <td>214.000000</td>\n",
              "      <td>214.000000</td>\n",
              "      <td>214.000000</td>\n",
              "      <td>214.000000</td>\n",
              "      <td>214.000000</td>\n",
              "    </tr>\n",
              "    <tr>\n",
              "      <th>mean</th>\n",
              "      <td>1.518365</td>\n",
              "      <td>13.407850</td>\n",
              "      <td>2.684533</td>\n",
              "      <td>1.444907</td>\n",
              "      <td>72.650935</td>\n",
              "      <td>0.497056</td>\n",
              "      <td>8.956963</td>\n",
              "      <td>0.175047</td>\n",
              "      <td>0.057009</td>\n",
              "      <td>2.780374</td>\n",
              "    </tr>\n",
              "    <tr>\n",
              "      <th>std</th>\n",
              "      <td>0.003037</td>\n",
              "      <td>0.816604</td>\n",
              "      <td>1.442408</td>\n",
              "      <td>0.499270</td>\n",
              "      <td>0.774546</td>\n",
              "      <td>0.652192</td>\n",
              "      <td>1.423153</td>\n",
              "      <td>0.497219</td>\n",
              "      <td>0.097439</td>\n",
              "      <td>2.103739</td>\n",
              "    </tr>\n",
              "    <tr>\n",
              "      <th>min</th>\n",
              "      <td>1.511150</td>\n",
              "      <td>10.730000</td>\n",
              "      <td>0.000000</td>\n",
              "      <td>0.290000</td>\n",
              "      <td>69.810000</td>\n",
              "      <td>0.000000</td>\n",
              "      <td>5.430000</td>\n",
              "      <td>0.000000</td>\n",
              "      <td>0.000000</td>\n",
              "      <td>1.000000</td>\n",
              "    </tr>\n",
              "    <tr>\n",
              "      <th>25%</th>\n",
              "      <td>1.516522</td>\n",
              "      <td>12.907500</td>\n",
              "      <td>2.115000</td>\n",
              "      <td>1.190000</td>\n",
              "      <td>72.280000</td>\n",
              "      <td>0.122500</td>\n",
              "      <td>8.240000</td>\n",
              "      <td>0.000000</td>\n",
              "      <td>0.000000</td>\n",
              "      <td>1.000000</td>\n",
              "    </tr>\n",
              "    <tr>\n",
              "      <th>50%</th>\n",
              "      <td>1.517680</td>\n",
              "      <td>13.300000</td>\n",
              "      <td>3.480000</td>\n",
              "      <td>1.360000</td>\n",
              "      <td>72.790000</td>\n",
              "      <td>0.555000</td>\n",
              "      <td>8.600000</td>\n",
              "      <td>0.000000</td>\n",
              "      <td>0.000000</td>\n",
              "      <td>2.000000</td>\n",
              "    </tr>\n",
              "    <tr>\n",
              "      <th>75%</th>\n",
              "      <td>1.519157</td>\n",
              "      <td>13.825000</td>\n",
              "      <td>3.600000</td>\n",
              "      <td>1.630000</td>\n",
              "      <td>73.087500</td>\n",
              "      <td>0.610000</td>\n",
              "      <td>9.172500</td>\n",
              "      <td>0.000000</td>\n",
              "      <td>0.100000</td>\n",
              "      <td>3.000000</td>\n",
              "    </tr>\n",
              "    <tr>\n",
              "      <th>max</th>\n",
              "      <td>1.533930</td>\n",
              "      <td>17.380000</td>\n",
              "      <td>4.490000</td>\n",
              "      <td>3.500000</td>\n",
              "      <td>75.410000</td>\n",
              "      <td>6.210000</td>\n",
              "      <td>16.190000</td>\n",
              "      <td>3.150000</td>\n",
              "      <td>0.510000</td>\n",
              "      <td>7.000000</td>\n",
              "    </tr>\n",
              "  </tbody>\n",
              "</table>\n",
              "</div>\n",
              "    <div class=\"colab-df-buttons\">\n",
              "\n",
              "  <div class=\"colab-df-container\">\n",
              "    <button class=\"colab-df-convert\" onclick=\"convertToInteractive('df-a80167dd-796f-48dc-b4ca-3f562727fe59')\"\n",
              "            title=\"Convert this dataframe to an interactive table.\"\n",
              "            style=\"display:none;\">\n",
              "\n",
              "  <svg xmlns=\"http://www.w3.org/2000/svg\" height=\"24px\" viewBox=\"0 -960 960 960\">\n",
              "    <path d=\"M120-120v-720h720v720H120Zm60-500h600v-160H180v160Zm220 220h160v-160H400v160Zm0 220h160v-160H400v160ZM180-400h160v-160H180v160Zm440 0h160v-160H620v160ZM180-180h160v-160H180v160Zm440 0h160v-160H620v160Z\"/>\n",
              "  </svg>\n",
              "    </button>\n",
              "\n",
              "  <style>\n",
              "    .colab-df-container {\n",
              "      display:flex;\n",
              "      gap: 12px;\n",
              "    }\n",
              "\n",
              "    .colab-df-convert {\n",
              "      background-color: #E8F0FE;\n",
              "      border: none;\n",
              "      border-radius: 50%;\n",
              "      cursor: pointer;\n",
              "      display: none;\n",
              "      fill: #1967D2;\n",
              "      height: 32px;\n",
              "      padding: 0 0 0 0;\n",
              "      width: 32px;\n",
              "    }\n",
              "\n",
              "    .colab-df-convert:hover {\n",
              "      background-color: #E2EBFA;\n",
              "      box-shadow: 0px 1px 2px rgba(60, 64, 67, 0.3), 0px 1px 3px 1px rgba(60, 64, 67, 0.15);\n",
              "      fill: #174EA6;\n",
              "    }\n",
              "\n",
              "    .colab-df-buttons div {\n",
              "      margin-bottom: 4px;\n",
              "    }\n",
              "\n",
              "    [theme=dark] .colab-df-convert {\n",
              "      background-color: #3B4455;\n",
              "      fill: #D2E3FC;\n",
              "    }\n",
              "\n",
              "    [theme=dark] .colab-df-convert:hover {\n",
              "      background-color: #434B5C;\n",
              "      box-shadow: 0px 1px 3px 1px rgba(0, 0, 0, 0.15);\n",
              "      filter: drop-shadow(0px 1px 2px rgba(0, 0, 0, 0.3));\n",
              "      fill: #FFFFFF;\n",
              "    }\n",
              "  </style>\n",
              "\n",
              "    <script>\n",
              "      const buttonEl =\n",
              "        document.querySelector('#df-a80167dd-796f-48dc-b4ca-3f562727fe59 button.colab-df-convert');\n",
              "      buttonEl.style.display =\n",
              "        google.colab.kernel.accessAllowed ? 'block' : 'none';\n",
              "\n",
              "      async function convertToInteractive(key) {\n",
              "        const element = document.querySelector('#df-a80167dd-796f-48dc-b4ca-3f562727fe59');\n",
              "        const dataTable =\n",
              "          await google.colab.kernel.invokeFunction('convertToInteractive',\n",
              "                                                    [key], {});\n",
              "        if (!dataTable) return;\n",
              "\n",
              "        const docLinkHtml = 'Like what you see? Visit the ' +\n",
              "          '<a target=\"_blank\" href=https://colab.research.google.com/notebooks/data_table.ipynb>data table notebook</a>'\n",
              "          + ' to learn more about interactive tables.';\n",
              "        element.innerHTML = '';\n",
              "        dataTable['output_type'] = 'display_data';\n",
              "        await google.colab.output.renderOutput(dataTable, element);\n",
              "        const docLink = document.createElement('div');\n",
              "        docLink.innerHTML = docLinkHtml;\n",
              "        element.appendChild(docLink);\n",
              "      }\n",
              "    </script>\n",
              "  </div>\n",
              "\n",
              "\n",
              "<div id=\"df-3cecbc85-e661-4db5-8c6b-b264fcfe961f\">\n",
              "  <button class=\"colab-df-quickchart\" onclick=\"quickchart('df-3cecbc85-e661-4db5-8c6b-b264fcfe961f')\"\n",
              "            title=\"Suggest charts.\"\n",
              "            style=\"display:none;\">\n",
              "\n",
              "<svg xmlns=\"http://www.w3.org/2000/svg\" height=\"24px\"viewBox=\"0 0 24 24\"\n",
              "     width=\"24px\">\n",
              "    <g>\n",
              "        <path d=\"M19 3H5c-1.1 0-2 .9-2 2v14c0 1.1.9 2 2 2h14c1.1 0 2-.9 2-2V5c0-1.1-.9-2-2-2zM9 17H7v-7h2v7zm4 0h-2V7h2v10zm4 0h-2v-4h2v4z\"/>\n",
              "    </g>\n",
              "</svg>\n",
              "  </button>\n",
              "\n",
              "<style>\n",
              "  .colab-df-quickchart {\n",
              "      --bg-color: #E8F0FE;\n",
              "      --fill-color: #1967D2;\n",
              "      --hover-bg-color: #E2EBFA;\n",
              "      --hover-fill-color: #174EA6;\n",
              "      --disabled-fill-color: #AAA;\n",
              "      --disabled-bg-color: #DDD;\n",
              "  }\n",
              "\n",
              "  [theme=dark] .colab-df-quickchart {\n",
              "      --bg-color: #3B4455;\n",
              "      --fill-color: #D2E3FC;\n",
              "      --hover-bg-color: #434B5C;\n",
              "      --hover-fill-color: #FFFFFF;\n",
              "      --disabled-bg-color: #3B4455;\n",
              "      --disabled-fill-color: #666;\n",
              "  }\n",
              "\n",
              "  .colab-df-quickchart {\n",
              "    background-color: var(--bg-color);\n",
              "    border: none;\n",
              "    border-radius: 50%;\n",
              "    cursor: pointer;\n",
              "    display: none;\n",
              "    fill: var(--fill-color);\n",
              "    height: 32px;\n",
              "    padding: 0;\n",
              "    width: 32px;\n",
              "  }\n",
              "\n",
              "  .colab-df-quickchart:hover {\n",
              "    background-color: var(--hover-bg-color);\n",
              "    box-shadow: 0 1px 2px rgba(60, 64, 67, 0.3), 0 1px 3px 1px rgba(60, 64, 67, 0.15);\n",
              "    fill: var(--button-hover-fill-color);\n",
              "  }\n",
              "\n",
              "  .colab-df-quickchart-complete:disabled,\n",
              "  .colab-df-quickchart-complete:disabled:hover {\n",
              "    background-color: var(--disabled-bg-color);\n",
              "    fill: var(--disabled-fill-color);\n",
              "    box-shadow: none;\n",
              "  }\n",
              "\n",
              "  .colab-df-spinner {\n",
              "    border: 2px solid var(--fill-color);\n",
              "    border-color: transparent;\n",
              "    border-bottom-color: var(--fill-color);\n",
              "    animation:\n",
              "      spin 1s steps(1) infinite;\n",
              "  }\n",
              "\n",
              "  @keyframes spin {\n",
              "    0% {\n",
              "      border-color: transparent;\n",
              "      border-bottom-color: var(--fill-color);\n",
              "      border-left-color: var(--fill-color);\n",
              "    }\n",
              "    20% {\n",
              "      border-color: transparent;\n",
              "      border-left-color: var(--fill-color);\n",
              "      border-top-color: var(--fill-color);\n",
              "    }\n",
              "    30% {\n",
              "      border-color: transparent;\n",
              "      border-left-color: var(--fill-color);\n",
              "      border-top-color: var(--fill-color);\n",
              "      border-right-color: var(--fill-color);\n",
              "    }\n",
              "    40% {\n",
              "      border-color: transparent;\n",
              "      border-right-color: var(--fill-color);\n",
              "      border-top-color: var(--fill-color);\n",
              "    }\n",
              "    60% {\n",
              "      border-color: transparent;\n",
              "      border-right-color: var(--fill-color);\n",
              "    }\n",
              "    80% {\n",
              "      border-color: transparent;\n",
              "      border-right-color: var(--fill-color);\n",
              "      border-bottom-color: var(--fill-color);\n",
              "    }\n",
              "    90% {\n",
              "      border-color: transparent;\n",
              "      border-bottom-color: var(--fill-color);\n",
              "    }\n",
              "  }\n",
              "</style>\n",
              "\n",
              "  <script>\n",
              "    async function quickchart(key) {\n",
              "      const quickchartButtonEl =\n",
              "        document.querySelector('#' + key + ' button');\n",
              "      quickchartButtonEl.disabled = true;  // To prevent multiple clicks.\n",
              "      quickchartButtonEl.classList.add('colab-df-spinner');\n",
              "      try {\n",
              "        const charts = await google.colab.kernel.invokeFunction(\n",
              "            'suggestCharts', [key], {});\n",
              "      } catch (error) {\n",
              "        console.error('Error during call to suggestCharts:', error);\n",
              "      }\n",
              "      quickchartButtonEl.classList.remove('colab-df-spinner');\n",
              "      quickchartButtonEl.classList.add('colab-df-quickchart-complete');\n",
              "    }\n",
              "    (() => {\n",
              "      let quickchartButtonEl =\n",
              "        document.querySelector('#df-3cecbc85-e661-4db5-8c6b-b264fcfe961f button');\n",
              "      quickchartButtonEl.style.display =\n",
              "        google.colab.kernel.accessAllowed ? 'block' : 'none';\n",
              "    })();\n",
              "  </script>\n",
              "</div>\n",
              "    </div>\n",
              "  </div>\n"
            ]
          },
          "metadata": {},
          "execution_count": 7
        }
      ]
    },
    {
      "cell_type": "markdown",
      "source": [
        "Mg,K,Ba and Fe are having minimum values as zero   \n",
        "need to check how many data points are zero"
      ],
      "metadata": {
        "id": "Bs3JQLYewQQi"
      }
    },
    {
      "cell_type": "code",
      "source": [
        "#check how many zeros in Mg\n",
        "df[df['Magnesium']==0.00].shape[0]"
      ],
      "metadata": {
        "colab": {
          "base_uri": "https://localhost:8080/"
        },
        "id": "TKRbIpH7wJC-",
        "outputId": "b7cf0980-10ae-46f6-9eb9-adf03bc43534"
      },
      "execution_count": 8,
      "outputs": [
        {
          "output_type": "execute_result",
          "data": {
            "text/plain": [
              "42"
            ]
          },
          "metadata": {},
          "execution_count": 8
        }
      ]
    },
    {
      "cell_type": "code",
      "source": [
        "#check how many zeros in K\n",
        "df[df['Potassium']==0.00].shape[0]"
      ],
      "metadata": {
        "colab": {
          "base_uri": "https://localhost:8080/"
        },
        "id": "1g8P29gtwTYE",
        "outputId": "a6739bce-9c98-424a-97e3-48824db653d0"
      },
      "execution_count": 9,
      "outputs": [
        {
          "output_type": "execute_result",
          "data": {
            "text/plain": [
              "30"
            ]
          },
          "metadata": {},
          "execution_count": 9
        }
      ]
    },
    {
      "cell_type": "code",
      "source": [
        "#check how many zeros in Ba\n",
        "df[df['Barium']==0.00].shape[0]"
      ],
      "metadata": {
        "colab": {
          "base_uri": "https://localhost:8080/"
        },
        "id": "w8GNuNM0wVT0",
        "outputId": "6b0f58c6-82d7-4e69-d40e-38c633d9a079"
      },
      "execution_count": 10,
      "outputs": [
        {
          "output_type": "execute_result",
          "data": {
            "text/plain": [
              "176"
            ]
          },
          "metadata": {},
          "execution_count": 10
        }
      ]
    },
    {
      "cell_type": "code",
      "source": [
        "#check how many zeros in Fe\n",
        "df[df['Iron']==0.00].shape[0]"
      ],
      "metadata": {
        "colab": {
          "base_uri": "https://localhost:8080/"
        },
        "id": "EoC0b6W8wXgM",
        "outputId": "cc89765a-5015-45cd-b672-5869cc5f4c32"
      },
      "execution_count": 11,
      "outputs": [
        {
          "output_type": "execute_result",
          "data": {
            "text/plain": [
              "144"
            ]
          },
          "metadata": {},
          "execution_count": 11
        }
      ]
    },
    {
      "cell_type": "code",
      "source": [
        "Magnesium=df[df['Magnesium']!=0.00]\n",
        "Potassium=df[df['Potassium']!=0.00]\n",
        "Barium=df[df['Barium']!=0.00]\n",
        "Iron=df[df['Iron']!=0.00]\n"
      ],
      "metadata": {
        "id": "M8K2aCpP75GO"
      },
      "execution_count": 12,
      "outputs": []
    },
    {
      "cell_type": "code",
      "source": [
        "#spliting the magnesium data by glass categoriy wise\n",
        "magnesium_1 = Magnesium [ Magnesium['Glasstype']==1 ]\n",
        "magnesium_2 = Magnesium [ Magnesium['Glasstype']==2 ]\n",
        "magnesium_3 = Magnesium [ Magnesium['Glasstype']==3 ]\n",
        "magnesium_5 = Magnesium [ Magnesium['Glasstype']==5 ]\n",
        "magnesium_6 = Magnesium [ Magnesium['Glasstype']==6 ]\n",
        "magnesium_7 = Magnesium [ Magnesium['Glasstype']==7 ]"
      ],
      "metadata": {
        "id": "jDDXIzdW789O"
      },
      "execution_count": 13,
      "outputs": []
    },
    {
      "cell_type": "code",
      "source": [
        "# Calculating mean of magnesium for individual glass\n",
        "magnesium_1_mean = magnesium_1['Magnesium'].mean()\n",
        "magnesium_2_mean = magnesium_2['Magnesium'].mean()\n",
        "magnesium_3_mean = magnesium_3['Magnesium'].mean()\n",
        "magnesium_5_mean = magnesium_5['Magnesium'].mean()\n",
        "magnesium_6_mean = magnesium_6['Magnesium'].mean()\n",
        "magnesium_7_mean = magnesium_7['Magnesium'].mean()"
      ],
      "metadata": {
        "id": "nr3nNy328B0q"
      },
      "execution_count": 14,
      "outputs": []
    },
    {
      "cell_type": "code",
      "source": [
        "#spliting the Potassium data by glass categoriy wise\n",
        "Potassium_1 = Potassium [ Potassium['Glasstype']==1 ]\n",
        "Potassium_2 = Potassium [ Potassium['Glasstype']==2 ]\n",
        "Potassium_3 = Potassium [ Potassium['Glasstype']==3 ]\n",
        "Potassium_5 = Potassium [ Potassium['Glasstype']==5 ]\n",
        "Potassium_6 = Potassium [ Potassium['Glasstype']==6 ]\n",
        "Potassium_7 = Potassium [ Potassium['Glasstype']==7 ]"
      ],
      "metadata": {
        "id": "rq5Mq3IZ8Fwr"
      },
      "execution_count": 15,
      "outputs": []
    },
    {
      "cell_type": "code",
      "source": [
        "# Calculating mean of Potassium for individual glass\n",
        "Potassium_1_mean = Potassium_1['Potassium'].mean()\n",
        "Potassium_2_mean = Potassium_2['Potassium'].mean()\n",
        "Potassium_3_mean = Potassium_3['Potassium'].mean()\n",
        "Potassium_5_mean = Potassium_5['Potassium'].mean()\n",
        "Potassium_6_mean = Potassium_6['Potassium'].mean()\n",
        "Potassium_7_mean = Potassium_7['Potassium'].mean()"
      ],
      "metadata": {
        "id": "FQo-PR5y8JlI"
      },
      "execution_count": 16,
      "outputs": []
    },
    {
      "cell_type": "code",
      "source": [
        "#spliting the Barium data by glass categoriy wise\n",
        "Barium_1 = Barium [ Barium['Glasstype']==1 ]\n",
        "Barium_2 = Barium [ Barium['Glasstype']==2 ]\n",
        "Barium_3 = Barium [ Barium['Glasstype']==3 ]\n",
        "Barium_5 = Barium [ Barium['Glasstype']==5 ]\n",
        "Barium_6 = Barium [ Barium['Glasstype']==6 ]\n",
        "Barium_7 = Barium [ Barium['Glasstype']==7 ]\n"
      ],
      "metadata": {
        "id": "SbdKSJiU8M3V"
      },
      "execution_count": 17,
      "outputs": []
    },
    {
      "cell_type": "code",
      "source": [
        "# Calculating mean of Barium for individual glass\n",
        "Barium_1_mean = Barium_1['Barium'].mean()\n",
        "Barium_2_mean = Barium_2['Barium'].mean()\n",
        "Barium_3_mean = Barium_3['Barium'].mean()\n",
        "Barium_5_mean = Barium_5['Barium'].mean()\n",
        "Barium_6_mean = Barium_6['Barium'].mean()\n",
        "Barium_7_mean = Barium_7['Barium'].mean()"
      ],
      "metadata": {
        "id": "TG_m_59p8VB8"
      },
      "execution_count": 18,
      "outputs": []
    },
    {
      "cell_type": "code",
      "source": [
        "#spliting the Iron data by glass categoriy wise\n",
        "Iron_1 = Iron [ Iron['Glasstype']==1 ]\n",
        "Iron_2 = Iron [ Iron['Glasstype']==2 ]\n",
        "Iron_3 = Iron [ Iron['Glasstype']==3 ]\n",
        "Iron_5 = Iron [ Iron['Glasstype']==5 ]\n",
        "Iron_6 = Iron [ Iron['Glasstype']==6 ]\n",
        "Iron_7 = Iron [ Iron['Glasstype']==7 ]\n",
        "\n"
      ],
      "metadata": {
        "id": "ii3VuRxO8kIP"
      },
      "execution_count": 19,
      "outputs": []
    },
    {
      "cell_type": "code",
      "source": [
        "# Calculating mean of Iron for individual glass\n",
        "Iron_1_mean = Iron_1['Iron'].mean()\n",
        "Iron_2_mean = Iron_2['Iron'].mean()\n",
        "Iron_3_mean = Iron_3['Iron'].mean()\n",
        "Iron_5_mean = Iron_5['Iron'].mean()\n",
        "Iron_6_mean = Iron_6['Iron'].mean()\n",
        "Iron_7_mean = Iron_7['Iron'].mean()"
      ],
      "metadata": {
        "id": "5eWYFQuc8lSD"
      },
      "execution_count": 20,
      "outputs": []
    },
    {
      "cell_type": "code",
      "source": [
        "#accesong feature as pandas series so we can iterate over it\n",
        "mg=df['Magnesium']\n",
        "k=df['Potassium']\n",
        "ba=df['Barium']\n",
        "fe=df['Iron']\n",
        "g=df['Glasstype']"
      ],
      "metadata": {
        "id": "JFLTGbpJwehE"
      },
      "execution_count": 21,
      "outputs": []
    },
    {
      "cell_type": "code",
      "source": [
        "#define function for replacing zero\n",
        "def replace_zero(f1,l,colno,mean_1,mean_2,mean_3,mean_5,mean_6,mean_7):\n",
        "\n",
        "  for i in range(len(f1)):\n",
        "    if f1[i]==0:\n",
        "\n",
        "      if l[i]==1:\n",
        "        df.iloc[[i],[colno]]=mean_1\n",
        "\n",
        "      elif l[i]==2:\n",
        "        df.iloc[[i],[colno]]=mean_2\n",
        "\n",
        "      elif l[i]==3:\n",
        "        df.iloc[[i],[colno]]=mean_3\n",
        "\n",
        "      elif l[i]==5:\n",
        "        df.iloc[[i],[colno]]=mean_5\n",
        "\n",
        "      elif l[i]==6:\n",
        "        df.iloc[[i],[colno]]=mean_6\n",
        "\n",
        "      elif l[i]==7:\n",
        "       df.iloc[[i],[colno]]=mean_7\n",
        "\n",
        "    else:\n",
        "      df.iloc[[i],[colno]]=f1[i]\n",
        "\n"
      ],
      "metadata": {
        "id": "l6tbCGsb5XNr"
      },
      "execution_count": 22,
      "outputs": []
    },
    {
      "cell_type": "code",
      "source": [
        "# Replacing zeros in magnesium with there mean as per glasstype\n",
        "replace_zero(mg,g,2,magnesium_1_mean,magnesium_2_mean,magnesium_3_mean,magnesium_5_mean,magnesium_6_mean,magnesium_7_mean)"
      ],
      "metadata": {
        "id": "1U-7usHM5Mrv"
      },
      "execution_count": 23,
      "outputs": []
    },
    {
      "cell_type": "code",
      "source": [
        "# Replacing zeros in Potassium with there mean as per glasstype\n",
        "replace_zero(k,g,5,Potassium_1_mean,Potassium_2_mean,Potassium_3_mean,Potassium_5_mean,Potassium_6_mean,Potassium_7_mean)\n"
      ],
      "metadata": {
        "id": "jMxzZUxb-fsd"
      },
      "execution_count": 24,
      "outputs": []
    },
    {
      "cell_type": "code",
      "source": [
        "# Replacing zeros in Barium with there mean as per glasstype\n",
        "replace_zero(ba,g,7,Barium_1_mean,Barium_2_mean,Barium_3_mean,Barium_5_mean,Barium_6_mean,Barium_7_mean)"
      ],
      "metadata": {
        "id": "aT7CRRGm5TJ-"
      },
      "execution_count": 25,
      "outputs": []
    },
    {
      "cell_type": "code",
      "source": [
        "# Replacing zeros in Iron with there mean as per glasstype\n",
        "replace_zero(fe,g,8,Iron_1_mean,Iron_2_mean,Iron_3_mean,Iron_5_mean,Iron_6_mean,Iron_7_mean)"
      ],
      "metadata": {
        "id": "Ejs3sNp7_5i7"
      },
      "execution_count": 26,
      "outputs": []
    },
    {
      "cell_type": "code",
      "source": [
        "#cross check is there any zeros in Magnesium\n",
        "df[df['Magnesium']==0.00].shape[0]"
      ],
      "metadata": {
        "colab": {
          "base_uri": "https://localhost:8080/"
        },
        "id": "5-lRW1k8QcJ-",
        "outputId": "2eeb43e3-2708-43b7-f225-353c953e7196"
      },
      "execution_count": 27,
      "outputs": [
        {
          "output_type": "execute_result",
          "data": {
            "text/plain": [
              "0"
            ]
          },
          "metadata": {},
          "execution_count": 27
        }
      ]
    },
    {
      "cell_type": "code",
      "source": [
        "#cross check is there any zeros in Potassium\n",
        "df[df['Potassium']==0.00].shape[0]"
      ],
      "metadata": {
        "colab": {
          "base_uri": "https://localhost:8080/"
        },
        "id": "9HyxmGx8UGn3",
        "outputId": "74e1caa0-c544-4609-8b4d-20ab92aacf3b"
      },
      "execution_count": 28,
      "outputs": [
        {
          "output_type": "execute_result",
          "data": {
            "text/plain": [
              "0"
            ]
          },
          "metadata": {},
          "execution_count": 28
        }
      ]
    },
    {
      "cell_type": "code",
      "source": [
        "##cross check is there any zeros in Barium\n",
        "df[df['Barium']==0.00].shape[0]"
      ],
      "metadata": {
        "colab": {
          "base_uri": "https://localhost:8080/"
        },
        "id": "1HHa_VX4UKrN",
        "outputId": "94e5a3cd-0734-44c0-98d6-37428d0a9382"
      },
      "execution_count": 29,
      "outputs": [
        {
          "output_type": "execute_result",
          "data": {
            "text/plain": [
              "0"
            ]
          },
          "metadata": {},
          "execution_count": 29
        }
      ]
    },
    {
      "cell_type": "code",
      "source": [
        "##cross check is there any zeros in Iron\n",
        "df[df['Iron']==0.00].shape[0]"
      ],
      "metadata": {
        "colab": {
          "base_uri": "https://localhost:8080/"
        },
        "id": "cFOO78YzULPc",
        "outputId": "ec4ed4d9-e85a-4765-9167-b3e045f7db9e"
      },
      "execution_count": 30,
      "outputs": [
        {
          "output_type": "execute_result",
          "data": {
            "text/plain": [
              "0"
            ]
          },
          "metadata": {},
          "execution_count": 30
        }
      ]
    },
    {
      "cell_type": "code",
      "source": [
        "#plot distribution of data\n",
        "fig=plt.figure(figsize=(17,10))\n",
        "(top,bot)=fig.subfigures(1,2)\n",
        "top_axs=top.subplots(3,2)\n",
        "bot_axs=bot.subplots(2,2)\n",
        "sns.distplot(df['Refractive Index'],ax=top_axs[0,0])\n",
        "sns.distplot(df['Sodium'],ax=top_axs[0,1])\n",
        "sns.distplot(df['Magnesium'],ax=top_axs[1,0])\n",
        "sns.distplot(df['Aluminum'],ax=top_axs[1,1])\n",
        "sns.distplot(df['Silicon'],ax=top_axs[2,0])\n",
        "sns.distplot(df['Potassium'],ax=top_axs[2,1])\n",
        "sns.distplot(df['Calcium'],ax=bot_axs[0,0])\n",
        "sns.distplot(df['Barium'],ax=bot_axs[0,1])\n",
        "sns.distplot(df['Iron'],ax=bot_axs[1,0])\n",
        "sns.distplot(df['Glasstype'],ax=bot_axs[1,1])\n",
        "plt.show()"
      ],
      "metadata": {
        "colab": {
          "base_uri": "https://localhost:8080/",
          "height": 759
        },
        "id": "pEJqdar7Vii3",
        "outputId": "b40bfb0f-5a5b-4bc1-fb88-351b2914657e"
      },
      "execution_count": 31,
      "outputs": [
        {
          "output_type": "display_data",
          "data": {
            "text/plain": [
              "<Figure size 1700x1000 with 10 Axes>"
            ],
            "image/png": "[encoded data removed]"
          },
          "metadata": {}
        }
      ]
    },
    {
      "cell_type": "code",
      "source": [
        "#check count of individual classes\n",
        "sns.countplot(df,x='Glasstype')"
      ],
      "metadata": {
        "colab": {
          "base_uri": "https://localhost:8080/",
          "height": 466
        },
        "id": "uV0refPNWWCH",
        "outputId": "767b1658-0ee8-4d81-b315-ab53b0e27c60"
      },
      "execution_count": 32,
      "outputs": [
        {
          "output_type": "execute_result",
          "data": {
            "text/plain": [
              "<Axes: xlabel='Glasstype', ylabel='count'>"
            ]
          },
          "metadata": {},
          "execution_count": 32
        },
        {
          "output_type": "display_data",
          "data": {
            "text/plain": [
              "<Figure size 640x480 with 1 Axes>"
            ],
            "image/png": "[encoded data removed]"
          },
          "metadata": {}
        }
      ]
    },
    {
      "cell_type": "code",
      "source": [
        "#check correlation using heatmap\n",
        "plt.figure(figsize=(12,4))\n",
        "sns.heatmap(df.corr(),annot=True)\n",
        "plt.show()"
      ],
      "metadata": {
        "colab": {
          "base_uri": "https://localhost:8080/",
          "height": 473
        },
        "id": "q_nwRC2ef4r5",
        "outputId": "3c625e19-a6ae-40cf-c945-8a675cb4963f"
      },
      "execution_count": 33,
      "outputs": [
        {
          "output_type": "display_data",
          "data": {
            "text/plain": [
              "<Figure size 1200x400 with 2 Axes>"
            ],
            "image/png": "[encoded data removed]"
          },
          "metadata": {}
        }
      ]
    },
    {
      "cell_type": "code",
      "source": [
        "df.dropna(inplace=True)"
      ],
      "metadata": {
        "id": "VfRBVrsrnlGF"
      },
      "execution_count": 34,
      "outputs": []
    },
    {
      "cell_type": "code",
      "source": [
        "df=df.drop_duplicates()"
      ],
      "metadata": {
        "id": "tL9cB-MVKW7g"
      },
      "execution_count": 70,
      "outputs": []
    },
    {
      "cell_type": "code",
      "source": [
        "df.shape"
      ],
      "metadata": {
        "colab": {
          "base_uri": "https://localhost:8080/"
        },
        "id": "Zc4TNN-woTq8",
        "outputId": "441875a9-ee08-4145-d663-57b92369ef84"
      },
      "execution_count": 36,
      "outputs": [
        {
          "output_type": "execute_result",
          "data": {
            "text/plain": [
              "(205, 10)"
            ]
          },
          "metadata": {},
          "execution_count": 36
        }
      ]
    },
    {
      "cell_type": "code",
      "source": [
        "#check stats of dat\n",
        "df.skew()"
      ],
      "metadata": {
        "colab": {
          "base_uri": "https://localhost:8080/"
        },
        "id": "PDbeWiYOfV74",
        "outputId": "fe6683f1-14c6-4b3e-fec1-81320b96b870"
      },
      "execution_count": 37,
      "outputs": [
        {
          "output_type": "execute_result",
          "data": {
            "text/plain": [
              "Refractive Index    1.754544\n",
              "Sodium              0.002419\n",
              "Magnesium          -1.682101\n",
              "Aluminum            1.009296\n",
              "Silicon            -1.062819\n",
              "Potassium           7.041660\n",
              "Calcium             2.166544\n",
              "Barium              2.283861\n",
              "Iron                1.128301\n",
              "Glasstype           1.319960\n",
              "dtype: float64"
            ]
          },
          "metadata": {},
          "execution_count": 37
        }
      ]
    },
    {
      "cell_type": "markdown",
      "source": [
        "Except sodium all other features are skewed  \n",
        "magnesium and silicon are negatively skewed  \n"
      ],
      "metadata": {
        "id": "8zhlewM2hTvR"
      }
    },
    {
      "cell_type": "code",
      "source": [
        "skewed_f=['Refractive Index','Magnesium','Aluminum','Silicon','Potassium','Calcium','Barium','Iron']\n",
        "pw=PowerTransformer(method='yeo-johnson',standardize=False)\n",
        "skdf=pw.fit_transform(df[skewed_f])"
      ],
      "metadata": {
        "id": "P-8t_lu0P2v4"
      },
      "execution_count": 38,
      "outputs": []
    },
    {
      "cell_type": "code",
      "source": [
        "skdf"
      ],
      "metadata": {
        "colab": {
          "base_uri": "https://localhost:8080/"
        },
        "id": "KwFWWIDdSQat",
        "outputId": "070e47ca-38dd-4ff7-fc6f-d1b4a26c8b63"
      },
      "execution_count": 39,
      "outputs": [
        {
          "output_type": "execute_result",
          "data": {
            "text/plain": [
              "array([[3.02578690e-02, 7.28004003e+02, 6.98800085e-01, ...,\n",
              "        6.70683926e-01, 2.08516354e-01, 1.16009669e-01],\n",
              "       [3.02578690e-02, 3.11904171e+02, 8.01241327e-01, ...,\n",
              "        6.66619356e-01, 2.08516354e-01, 1.16009669e-01],\n",
              "       [3.02578690e-02, 2.95985084e+02, 8.64755959e-01, ...,\n",
              "        6.66368516e-01, 2.08516354e-01, 1.16009669e-01],\n",
              "       ...,\n",
              "       [3.02578690e-02, 9.64734688e+01, 1.01135403e+00, ...,\n",
              "        6.69421773e-01, 4.65328450e-01, 5.66169155e-02],\n",
              "       [3.02578690e-02, 9.64734688e+01, 9.88886509e-01, ...,\n",
              "        6.69590286e-01, 4.60342458e-01, 5.66169155e-02],\n",
              "       [3.02578690e-02, 9.64734688e+01, 1.02775512e+00, ...,\n",
              "        6.70166684e-01, 4.67355560e-01, 5.66169155e-02]])"
            ]
          },
          "metadata": {},
          "execution_count": 39
        }
      ]
    },
    {
      "cell_type": "markdown",
      "source": [
        "Calcium and refractive index are having strong positive correlation  \n",
        "magnesium and glasstype are having strong negative correlation  \n",
        "Aluminium and glasstype are having strong postive correlation  \n",
        "Barium and glasstype are having strong postive correlation"
      ],
      "metadata": {
        "id": "byUR1kMqjPyz"
      }
    },
    {
      "cell_type": "code",
      "source": [
        "X=df.drop('Glasstype',axis=1)\n",
        "y=df['Glasstype']"
      ],
      "metadata": {
        "id": "yiLDKNphl93r"
      },
      "execution_count": 40,
      "outputs": []
    },
    {
      "cell_type": "code",
      "source": [
        "X[skewed_f]=skdf"
      ],
      "metadata": {
        "id": "MKz67HtHPzN5"
      },
      "execution_count": 41,
      "outputs": []
    },
    {
      "cell_type": "code",
      "source": [
        "X"
      ],
      "metadata": {
        "colab": {
          "base_uri": "https://localhost:8080/",
          "height": 423
        },
        "id": "m2A2oH_zTad-",
        "outputId": "864711ff-a0fc-4258-a85f-265d59ed688f"
      },
      "execution_count": 42,
      "outputs": [
        {
          "output_type": "execute_result",
          "data": {
            "text/plain": [
              "     Refractive Index  Sodium   Magnesium  Aluminum       Silicon  Potassium  \\\n",
              "0            0.030258   13.64  728.004003  0.698800  2.331547e+38   0.056434   \n",
              "1            0.030258   13.89  311.904171  0.801241  3.074095e+38   0.318214   \n",
              "2            0.030258   13.53  295.985084  0.864756  3.313674e+38   0.276077   \n",
              "3            0.030258   13.21  342.259410  0.775002  2.969175e+38   0.355284   \n",
              "4            0.030258   13.27  318.458124  0.755682  3.400675e+38   0.347437   \n",
              "..                ...     ...         ...       ...           ...        ...   \n",
              "209          0.030258   14.14   96.473469  1.216377  2.969175e+38   0.073782   \n",
              "210          0.030258   14.92   96.473469  1.003011  3.381155e+38   0.409749   \n",
              "211          0.030258   14.36   96.473469  1.011354  3.749404e+38   0.409749   \n",
              "212          0.030258   14.38   96.473469  0.988887  3.958863e+38   0.409749   \n",
              "213          0.030258   14.23   96.473469  1.027755  3.685484e+38   0.409749   \n",
              "\n",
              "      Calcium    Barium      Iron  \n",
              "0    0.670684  0.208516  0.116010  \n",
              "1    0.666619  0.208516  0.116010  \n",
              "2    0.666369  0.208516  0.116010  \n",
              "3    0.668463  0.208516  0.116010  \n",
              "4    0.667777  0.208516  0.116010  \n",
              "..        ...       ...       ...  \n",
              "209  0.672281  0.408973  0.056617  \n",
              "210  0.669252  0.461805  0.056617  \n",
              "211  0.669422  0.465328  0.056617  \n",
              "212  0.669590  0.460342  0.056617  \n",
              "213  0.670167  0.467356  0.056617  \n",
              "\n",
              "[205 rows x 9 columns]"
            ],
            "text/html": [
              "\n",
              "  <div id=\"df-fb082629-e5a6-4c07-a2c0-5f2a2bb1ecc7\" class=\"colab-df-container\">\n",
              "    <div>\n",
              "<style scoped>\n",
              "    .dataframe tbody tr th:only-of-type {\n",
              "        vertical-align: middle;\n",
              "    }\n",
              "\n",
              "    .dataframe tbody tr th {\n",
              "        vertical-align: top;\n",
              "    }\n",
              "\n",
              "    .dataframe thead th {\n",
              "        text-align: right;\n",
              "    }\n",
              "</style>\n",
              "<table border=\"1\" class=\"dataframe\">\n",
              "  <thead>\n",
              "    <tr style=\"text-align: right;\">\n",
              "      <th></th>\n",
              "      <th>Refractive Index</th>\n",
              "      <th>Sodium</th>\n",
              "      <th>Magnesium</th>\n",
              "      <th>Aluminum</th>\n",
              "      <th>Silicon</th>\n",
              "      <th>Potassium</th>\n",
              "      <th>Calcium</th>\n",
              "      <th>Barium</th>\n",
              "      <th>Iron</th>\n",
              "    </tr>\n",
              "  </thead>\n",
              "  <tbody>\n",
              "    <tr>\n",
              "      <th>0</th>\n",
              "      <td>0.030258</td>\n",
              "      <td>13.64</td>\n",
              "      <td>728.004003</td>\n",
              "      <td>0.698800</td>\n",
              "      <td>2.331547e+38</td>\n",
              "      <td>0.056434</td>\n",
              "      <td>0.670684</td>\n",
              "      <td>0.208516</td>\n",
              "      <td>0.116010</td>\n",
              "    </tr>\n",
              "    <tr>\n",
              "      <th>1</th>\n",
              "      <td>0.030258</td>\n",
              "      <td>13.89</td>\n",
              "      <td>311.904171</td>\n",
              "      <td>0.801241</td>\n",
              "      <td>3.074095e+38</td>\n",
              "      <td>0.318214</td>\n",
              "      <td>0.666619</td>\n",
              "      <td>0.208516</td>\n",
              "      <td>0.116010</td>\n",
              "    </tr>\n",
              "    <tr>\n",
              "      <th>2</th>\n",
              "      <td>0.030258</td>\n",
              "      <td>13.53</td>\n",
              "      <td>295.985084</td>\n",
              "      <td>0.864756</td>\n",
              "      <td>3.313674e+38</td>\n",
              "      <td>0.276077</td>\n",
              "      <td>0.666369</td>\n",
              "      <td>0.208516</td>\n",
              "      <td>0.116010</td>\n",
              "    </tr>\n",
              "    <tr>\n",
              "      <th>3</th>\n",
              "      <td>0.030258</td>\n",
              "      <td>13.21</td>\n",
              "      <td>342.259410</td>\n",
              "      <td>0.775002</td>\n",
              "      <td>2.969175e+38</td>\n",
              "      <td>0.355284</td>\n",
              "      <td>0.668463</td>\n",
              "      <td>0.208516</td>\n",
              "      <td>0.116010</td>\n",
              "    </tr>\n",
              "    <tr>\n",
              "      <th>4</th>\n",
              "      <td>0.030258</td>\n",
              "      <td>13.27</td>\n",
              "      <td>318.458124</td>\n",
              "      <td>0.755682</td>\n",
              "      <td>3.400675e+38</td>\n",
              "      <td>0.347437</td>\n",
              "      <td>0.667777</td>\n",
              "      <td>0.208516</td>\n",
              "      <td>0.116010</td>\n",
              "    </tr>\n",
              "    <tr>\n",
              "      <th>...</th>\n",
              "      <td>...</td>\n",
              "      <td>...</td>\n",
              "      <td>...</td>\n",
              "      <td>...</td>\n",
              "      <td>...</td>\n",
              "      <td>...</td>\n",
              "      <td>...</td>\n",
              "      <td>...</td>\n",
              "      <td>...</td>\n",
              "    </tr>\n",
              "    <tr>\n",
              "      <th>209</th>\n",
              "      <td>0.030258</td>\n",
              "      <td>14.14</td>\n",
              "      <td>96.473469</td>\n",
              "      <td>1.216377</td>\n",
              "      <td>2.969175e+38</td>\n",
              "      <td>0.073782</td>\n",
              "      <td>0.672281</td>\n",
              "      <td>0.408973</td>\n",
              "      <td>0.056617</td>\n",
              "    </tr>\n",
              "    <tr>\n",
              "      <th>210</th>\n",
              "      <td>0.030258</td>\n",
              "      <td>14.92</td>\n",
              "      <td>96.473469</td>\n",
              "      <td>1.003011</td>\n",
              "      <td>3.381155e+38</td>\n",
              "      <td>0.409749</td>\n",
              "      <td>0.669252</td>\n",
              "      <td>0.461805</td>\n",
              "      <td>0.056617</td>\n",
              "    </tr>\n",
              "    <tr>\n",
              "      <th>211</th>\n",
              "      <td>0.030258</td>\n",
              "      <td>14.36</td>\n",
              "      <td>96.473469</td>\n",
              "      <td>1.011354</td>\n",
              "      <td>3.749404e+38</td>\n",
              "      <td>0.409749</td>\n",
              "      <td>0.669422</td>\n",
              "      <td>0.465328</td>\n",
              "      <td>0.056617</td>\n",
              "    </tr>\n",
              "    <tr>\n",
              "      <th>212</th>\n",
              "      <td>0.030258</td>\n",
              "      <td>14.38</td>\n",
              "      <td>96.473469</td>\n",
              "      <td>0.988887</td>\n",
              "      <td>3.958863e+38</td>\n",
              "      <td>0.409749</td>\n",
              "      <td>0.669590</td>\n",
              "      <td>0.460342</td>\n",
              "      <td>0.056617</td>\n",
              "    </tr>\n",
              "    <tr>\n",
              "      <th>213</th>\n",
              "      <td>0.030258</td>\n",
              "      <td>14.23</td>\n",
              "      <td>96.473469</td>\n",
              "      <td>1.027755</td>\n",
              "      <td>3.685484e+38</td>\n",
              "      <td>0.409749</td>\n",
              "      <td>0.670167</td>\n",
              "      <td>0.467356</td>\n",
              "      <td>0.056617</td>\n",
              "    </tr>\n",
              "  </tbody>\n",
              "</table>\n",
              "<p>205 rows × 9 columns</p>\n",
              "</div>\n",
              "    <div class=\"colab-df-buttons\">\n",
              "\n",
              "  <div class=\"colab-df-container\">\n",
              "    <button class=\"colab-df-convert\" onclick=\"convertToInteractive('df-fb082629-e5a6-4c07-a2c0-5f2a2bb1ecc7')\"\n",
              "            title=\"Convert this dataframe to an interactive table.\"\n",
              "            style=\"display:none;\">\n",
              "\n",
              "  <svg xmlns=\"http://www.w3.org/2000/svg\" height=\"24px\" viewBox=\"0 -960 960 960\">\n",
              "    <path d=\"M120-120v-720h720v720H120Zm60-500h600v-160H180v160Zm220 220h160v-160H400v160Zm0 220h160v-160H400v160ZM180-400h160v-160H180v160Zm440 0h160v-160H620v160ZM180-180h160v-160H180v160Zm440 0h160v-160H620v160Z\"/>\n",
              "  </svg>\n",
              "    </button>\n",
              "\n",
              "  <style>\n",
              "    .colab-df-container {\n",
              "      display:flex;\n",
              "      gap: 12px;\n",
              "    }\n",
              "\n",
              "    .colab-df-convert {\n",
              "      background-color: #E8F0FE;\n",
              "      border: none;\n",
              "      border-radius: 50%;\n",
              "      cursor: pointer;\n",
              "      display: none;\n",
              "      fill: #1967D2;\n",
              "      height: 32px;\n",
              "      padding: 0 0 0 0;\n",
              "      width: 32px;\n",
              "    }\n",
              "\n",
              "    .colab-df-convert:hover {\n",
              "      background-color: #E2EBFA;\n",
              "      box-shadow: 0px 1px 2px rgba(60, 64, 67, 0.3), 0px 1px 3px 1px rgba(60, 64, 67, 0.15);\n",
              "      fill: #174EA6;\n",
              "    }\n",
              "\n",
              "    .colab-df-buttons div {\n",
              "      margin-bottom: 4px;\n",
              "    }\n",
              "\n",
              "    [theme=dark] .colab-df-convert {\n",
              "      background-color: #3B4455;\n",
              "      fill: #D2E3FC;\n",
              "    }\n",
              "\n",
              "    [theme=dark] .colab-df-convert:hover {\n",
              "      background-color: #434B5C;\n",
              "      box-shadow: 0px 1px 3px 1px rgba(0, 0, 0, 0.15);\n",
              "      filter: drop-shadow(0px 1px 2px rgba(0, 0, 0, 0.3));\n",
              "      fill: #FFFFFF;\n",
              "    }\n",
              "  </style>\n",
              "\n",
              "    <script>\n",
              "      const buttonEl =\n",
              "        document.querySelector('#df-fb082629-e5a6-4c07-a2c0-5f2a2bb1ecc7 button.colab-df-convert');\n",
              "      buttonEl.style.display =\n",
              "        google.colab.kernel.accessAllowed ? 'block' : 'none';\n",
              "\n",
              "      async function convertToInteractive(key) {\n",
              "        const element = document.querySelector('#df-fb082629-e5a6-4c07-a2c0-5f2a2bb1ecc7');\n",
              "        const dataTable =\n",
              "          await google.colab.kernel.invokeFunction('convertToInteractive',\n",
              "                                                    [key], {});\n",
              "        if (!dataTable) return;\n",
              "\n",
              "        const docLinkHtml = 'Like what you see? Visit the ' +\n",
              "          '<a target=\"_blank\" href=https://colab.research.google.com/notebooks/data_table.ipynb>data table notebook</a>'\n",
              "          + ' to learn more about interactive tables.';\n",
              "        element.innerHTML = '';\n",
              "        dataTable['output_type'] = 'display_data';\n",
              "        await google.colab.output.renderOutput(dataTable, element);\n",
              "        const docLink = document.createElement('div');\n",
              "        docLink.innerHTML = docLinkHtml;\n",
              "        element.appendChild(docLink);\n",
              "      }\n",
              "    </script>\n",
              "  </div>\n",
              "\n",
              "\n",
              "<div id=\"df-ef608deb-5172-4f28-9284-840f3b7da21c\">\n",
              "  <button class=\"colab-df-quickchart\" onclick=\"quickchart('df-ef608deb-5172-4f28-9284-840f3b7da21c')\"\n",
              "            title=\"Suggest charts.\"\n",
              "            style=\"display:none;\">\n",
              "\n",
              "<svg xmlns=\"http://www.w3.org/2000/svg\" height=\"24px\"viewBox=\"0 0 24 24\"\n",
              "     width=\"24px\">\n",
              "    <g>\n",
              "        <path d=\"M19 3H5c-1.1 0-2 .9-2 2v14c0 1.1.9 2 2 2h14c1.1 0 2-.9 2-2V5c0-1.1-.9-2-2-2zM9 17H7v-7h2v7zm4 0h-2V7h2v10zm4 0h-2v-4h2v4z\"/>\n",
              "    </g>\n",
              "</svg>\n",
              "  </button>\n",
              "\n",
              "<style>\n",
              "  .colab-df-quickchart {\n",
              "      --bg-color: #E8F0FE;\n",
              "      --fill-color: #1967D2;\n",
              "      --hover-bg-color: #E2EBFA;\n",
              "      --hover-fill-color: #174EA6;\n",
              "      --disabled-fill-color: #AAA;\n",
              "      --disabled-bg-color: #DDD;\n",
              "  }\n",
              "\n",
              "  [theme=dark] .colab-df-quickchart {\n",
              "      --bg-color: #3B4455;\n",
              "      --fill-color: #D2E3FC;\n",
              "      --hover-bg-color: #434B5C;\n",
              "      --hover-fill-color: #FFFFFF;\n",
              "      --disabled-bg-color: #3B4455;\n",
              "      --disabled-fill-color: #666;\n",
              "  }\n",
              "\n",
              "  .colab-df-quickchart {\n",
              "    background-color: var(--bg-color);\n",
              "    border: none;\n",
              "    border-radius: 50%;\n",
              "    cursor: pointer;\n",
              "    display: none;\n",
              "    fill: var(--fill-color);\n",
              "    height: 32px;\n",
              "    padding: 0;\n",
              "    width: 32px;\n",
              "  }\n",
              "\n",
              "  .colab-df-quickchart:hover {\n",
              "    background-color: var(--hover-bg-color);\n",
              "    box-shadow: 0 1px 2px rgba(60, 64, 67, 0.3), 0 1px 3px 1px rgba(60, 64, 67, 0.15);\n",
              "    fill: var(--button-hover-fill-color);\n",
              "  }\n",
              "\n",
              "  .colab-df-quickchart-complete:disabled,\n",
              "  .colab-df-quickchart-complete:disabled:hover {\n",
              "    background-color: var(--disabled-bg-color);\n",
              "    fill: var(--disabled-fill-color);\n",
              "    box-shadow: none;\n",
              "  }\n",
              "\n",
              "  .colab-df-spinner {\n",
              "    border: 2px solid var(--fill-color);\n",
              "    border-color: transparent;\n",
              "    border-bottom-color: var(--fill-color);\n",
              "    animation:\n",
              "      spin 1s steps(1) infinite;\n",
              "  }\n",
              "\n",
              "  @keyframes spin {\n",
              "    0% {\n",
              "      border-color: transparent;\n",
              "      border-bottom-color: var(--fill-color);\n",
              "      border-left-color: var(--fill-color);\n",
              "    }\n",
              "    20% {\n",
              "      border-color: transparent;\n",
              "      border-left-color: var(--fill-color);\n",
              "      border-top-color: var(--fill-color);\n",
              "    }\n",
              "    30% {\n",
              "      border-color: transparent;\n",
              "      border-left-color: var(--fill-color);\n",
              "      border-top-color: var(--fill-color);\n",
              "      border-right-color: var(--fill-color);\n",
              "    }\n",
              "    40% {\n",
              "      border-color: transparent;\n",
              "      border-right-color: var(--fill-color);\n",
              "      border-top-color: var(--fill-color);\n",
              "    }\n",
              "    60% {\n",
              "      border-color: transparent;\n",
              "      border-right-color: var(--fill-color);\n",
              "    }\n",
              "    80% {\n",
              "      border-color: transparent;\n",
              "      border-right-color: var(--fill-color);\n",
              "      border-bottom-color: var(--fill-color);\n",
              "    }\n",
              "    90% {\n",
              "      border-color: transparent;\n",
              "      border-bottom-color: var(--fill-color);\n",
              "    }\n",
              "  }\n",
              "</style>\n",
              "\n",
              "  <script>\n",
              "    async function quickchart(key) {\n",
              "      const quickchartButtonEl =\n",
              "        document.querySelector('#' + key + ' button');\n",
              "      quickchartButtonEl.disabled = true;  // To prevent multiple clicks.\n",
              "      quickchartButtonEl.classList.add('colab-df-spinner');\n",
              "      try {\n",
              "        const charts = await google.colab.kernel.invokeFunction(\n",
              "            'suggestCharts', [key], {});\n",
              "      } catch (error) {\n",
              "        console.error('Error during call to suggestCharts:', error);\n",
              "      }\n",
              "      quickchartButtonEl.classList.remove('colab-df-spinner');\n",
              "      quickchartButtonEl.classList.add('colab-df-quickchart-complete');\n",
              "    }\n",
              "    (() => {\n",
              "      let quickchartButtonEl =\n",
              "        document.querySelector('#df-ef608deb-5172-4f28-9284-840f3b7da21c button');\n",
              "      quickchartButtonEl.style.display =\n",
              "        google.colab.kernel.accessAllowed ? 'block' : 'none';\n",
              "    })();\n",
              "  </script>\n",
              "</div>\n",
              "    </div>\n",
              "  </div>\n"
            ]
          },
          "metadata": {},
          "execution_count": 42
        }
      ]
    },
    {
      "cell_type": "code",
      "source": [
        "kbest=SelectKBest(score_func=chi2,k=6)\n",
        "new_x=kbest.fit_transform(X,y)\n",
        "# kbestdf=pd.DataFrame()\n",
        "# kbestdf['score']=kbest.scores_\n",
        "# kbestdf['feature']=X.columns\n",
        "# kbestdf"
      ],
      "metadata": {
        "id": "SZsevXOlzBJC"
      },
      "execution_count": 43,
      "outputs": []
    },
    {
      "cell_type": "code",
      "source": [
        "#normalize data\n",
        "scal=StandardScaler()\n",
        "x_scal=scal.fit_transform(new_x)"
      ],
      "metadata": {
        "id": "JOSLt5ohEOQl"
      },
      "execution_count": 44,
      "outputs": []
    },
    {
      "cell_type": "code",
      "source": [
        "mxsc=0\n",
        "ind=0\n",
        "#split data\n",
        "for i in range(100):\n",
        "  x_train,x_test,y_train,y_test=train_test_split(x_scal,y,test_size=0.25,random_state=i)\n",
        "  tr_model=LogisticRegression().fit(x_train,y_train)\n",
        "  y_pred=tr_model.predict(x_test)\n",
        "  sc=accuracy_score(y_test,y_pred)\n",
        "\n",
        "  if sc>mxsc:\n",
        "    mxsc=sc\n",
        "    ind=i\n",
        "print(mxsc,' at random state ',ind)\n"
      ],
      "metadata": {
        "colab": {
          "base_uri": "https://localhost:8080/"
        },
        "id": "_YHRr6hhGbyo",
        "outputId": "368cde18-5774-45cd-db78-7317ce88a996"
      },
      "execution_count": 45,
      "outputs": [
        {
          "output_type": "stream",
          "name": "stdout",
          "text": [
            "0.9423076923076923  at random state  1\n"
          ]
        }
      ]
    },
    {
      "cell_type": "code",
      "source": [
        "#split data for training and testing\n",
        "x_train,x_test,y_train,y_test=train_test_split(x_scal,y,test_size=0.25,random_state=ind)"
      ],
      "metadata": {
        "id": "EfgpoIztIof1"
      },
      "execution_count": 46,
      "outputs": []
    },
    {
      "cell_type": "code",
      "source": [
        "#define function for buildinf model\n",
        "def fit_model(alg,x_train,x_test,y_train,y_test):\n",
        "  alg.fit(x_train,y_train)\n",
        "  print('----Training Score-----')\n",
        "  y_tr_predict=alg.predict(x_train)\n",
        "  tr_sc=accuracy_score(y_train,y_tr_predict)\n",
        "  print(tr_sc)\n",
        "  print('-----------------------------------------\\n')\n",
        "  print('----testing score------------------')\n",
        "  y_predcted=alg.predict(x_test)\n",
        "  test_sc=accuracy_score(y_test,y_predcted)\n",
        "  print(test_sc)\n",
        "  print('\\n------Confusion Matrix-------')\n",
        "  print(confusion_matrix(y_test,y_predcted))\n",
        "\n",
        "  return alg\n"
      ],
      "metadata": {
        "id": "XMV6SQlYI94p"
      },
      "execution_count": 47,
      "outputs": []
    },
    {
      "cell_type": "code",
      "source": [
        "#training logistic regression\n",
        "lc=fit_model(LogisticRegression(),x_train,x_test,y_train,y_test)"
      ],
      "metadata": {
        "colab": {
          "base_uri": "https://localhost:8080/"
        },
        "id": "935wtS6FOlh7",
        "outputId": "da951a30-b1b9-4c89-df31-59dd38020f59"
      },
      "execution_count": 48,
      "outputs": [
        {
          "output_type": "stream",
          "name": "stdout",
          "text": [
            "----Training Score-----\n",
            "0.8496732026143791\n",
            "-----------------------------------------\n",
            "\n",
            "----testing score------------------\n",
            "0.9423076923076923\n",
            "\n",
            "------Confusion Matrix-------\n",
            "[[19  1  0  0  0]\n",
            " [ 0 18  0  0  0]\n",
            " [ 2  0  1  0  0]\n",
            " [ 0  0  0  5  0]\n",
            " [ 0  0  0  0  6]]\n"
          ]
        }
      ]
    },
    {
      "cell_type": "code",
      "source": [
        "#training RandomForestClassifier\n",
        "rfr=fit_model(RandomForestClassifier(),x_train,x_test,y_train,y_test)"
      ],
      "metadata": {
        "colab": {
          "base_uri": "https://localhost:8080/"
        },
        "id": "UlepjxqlRyfo",
        "outputId": "a5dfa6e3-96d1-4c75-b5c4-8a735afd8add"
      },
      "execution_count": 49,
      "outputs": [
        {
          "output_type": "stream",
          "name": "stdout",
          "text": [
            "----Training Score-----\n",
            "1.0\n",
            "-----------------------------------------\n",
            "\n",
            "----testing score------------------\n",
            "1.0\n",
            "\n",
            "------Confusion Matrix-------\n",
            "[[20  0  0  0  0]\n",
            " [ 0 18  0  0  0]\n",
            " [ 0  0  3  0  0]\n",
            " [ 0  0  0  5  0]\n",
            " [ 0  0  0  0  6]]\n"
          ]
        }
      ]
    },
    {
      "cell_type": "code",
      "source": [
        "#training GradientBoostingClassifier\n",
        "gd=fit_model(GradientBoostingClassifier(),x_train,x_test,y_train,y_test)"
      ],
      "metadata": {
        "colab": {
          "base_uri": "https://localhost:8080/"
        },
        "id": "8kMgmkwuSakr",
        "outputId": "fb3a3f17-f204-4265-e22e-28d42fab3a16"
      },
      "execution_count": 50,
      "outputs": [
        {
          "output_type": "stream",
          "name": "stdout",
          "text": [
            "----Training Score-----\n",
            "1.0\n",
            "-----------------------------------------\n",
            "\n",
            "----testing score------------------\n",
            "0.9230769230769231\n",
            "\n",
            "------Confusion Matrix-------\n",
            "[[20  0  0  0  0]\n",
            " [ 1 17  0  0  0]\n",
            " [ 0  0  3  0  0]\n",
            " [ 0  0  0  5  0]\n",
            " [ 3  0  0  0  3]]\n"
          ]
        }
      ]
    },
    {
      "cell_type": "code",
      "source": [
        "#training BaggingClassifier\n",
        "bg=fit_model(BaggingClassifier(),x_train,x_test,y_train,y_test)"
      ],
      "metadata": {
        "colab": {
          "base_uri": "https://localhost:8080/"
        },
        "id": "RxCFtBv8SmpP",
        "outputId": "b3f7f7d9-d64e-43b8-e42c-eba0d0f5098c"
      },
      "execution_count": 51,
      "outputs": [
        {
          "output_type": "stream",
          "name": "stdout",
          "text": [
            "----Training Score-----\n",
            "0.9869281045751634\n",
            "-----------------------------------------\n",
            "\n",
            "----testing score------------------\n",
            "0.9423076923076923\n",
            "\n",
            "------Confusion Matrix-------\n",
            "[[20  0  0  0  0]\n",
            " [ 0 17  0  1  0]\n",
            " [ 0  0  3  0  0]\n",
            " [ 0  0  0  5  0]\n",
            " [ 0  1  0  1  4]]\n"
          ]
        }
      ]
    },
    {
      "cell_type": "code",
      "source": [
        "#training AdaBoostClassifier\n",
        "ad=fit_model(AdaBoostClassifier(),x_train,x_test,y_train,y_test)"
      ],
      "metadata": {
        "colab": {
          "base_uri": "https://localhost:8080/"
        },
        "id": "RxGYNtXgS019",
        "outputId": "057d6d55-c09a-4304-c083-b1dd3d2315d4"
      },
      "execution_count": 52,
      "outputs": [
        {
          "output_type": "stream",
          "name": "stdout",
          "text": [
            "----Training Score-----\n",
            "0.8235294117647058\n",
            "-----------------------------------------\n",
            "\n",
            "----testing score------------------\n",
            "0.7884615384615384\n",
            "\n",
            "------Confusion Matrix-------\n",
            "[[18  0  0  0  2]\n",
            " [ 0 18  0  0  0]\n",
            " [ 3  0  0  0  0]\n",
            " [ 0  3  0  1  1]\n",
            " [ 0  2  0  0  4]]\n"
          ]
        }
      ]
    },
    {
      "cell_type": "code",
      "source": [
        "#training SVC\n",
        "svc=fit_model(SVC(),x_train,x_test,y_train,y_test)"
      ],
      "metadata": {
        "colab": {
          "base_uri": "https://localhost:8080/"
        },
        "id": "J4hnen76S899",
        "outputId": "416d65d1-8ca8-4583-f675-6db2ef6dd2f5"
      },
      "execution_count": 53,
      "outputs": [
        {
          "output_type": "stream",
          "name": "stdout",
          "text": [
            "----Training Score-----\n",
            "0.9477124183006536\n",
            "-----------------------------------------\n",
            "\n",
            "----testing score------------------\n",
            "1.0\n",
            "\n",
            "------Confusion Matrix-------\n",
            "[[20  0  0  0  0]\n",
            " [ 0 18  0  0  0]\n",
            " [ 0  0  3  0  0]\n",
            " [ 0  0  0  5  0]\n",
            " [ 0  0  0  0  6]]\n"
          ]
        }
      ]
    },
    {
      "cell_type": "code",
      "source": [
        "#training KNeighborsClassifier\n",
        "knn=fit_model(KNeighborsClassifier(),x_train,x_test,y_train,y_test)"
      ],
      "metadata": {
        "colab": {
          "base_uri": "https://localhost:8080/"
        },
        "id": "9WeHd3FLTRiD",
        "outputId": "5ce84d78-f31d-4063-ccac-d60aad1d3f36"
      },
      "execution_count": 54,
      "outputs": [
        {
          "output_type": "stream",
          "name": "stdout",
          "text": [
            "----Training Score-----\n",
            "0.9215686274509803\n",
            "-----------------------------------------\n",
            "\n",
            "----testing score------------------\n",
            "0.8846153846153846\n",
            "\n",
            "------Confusion Matrix-------\n",
            "[[20  0  0  0  0]\n",
            " [ 1 16  0  1  0]\n",
            " [ 2  0  1  0  0]\n",
            " [ 0  2  0  3  0]\n",
            " [ 0  0  0  0  6]]\n"
          ]
        }
      ]
    },
    {
      "cell_type": "code",
      "source": [
        "#training DecisionTreeClassifier\n",
        "dt=fit_model(DecisionTreeClassifier(),x_train,x_test,y_train,y_test)"
      ],
      "metadata": {
        "colab": {
          "base_uri": "https://localhost:8080/"
        },
        "id": "W_x6qiasTdQH",
        "outputId": "dd034e3d-9def-4f35-8b70-5728b6a73009"
      },
      "execution_count": 55,
      "outputs": [
        {
          "output_type": "stream",
          "name": "stdout",
          "text": [
            "----Training Score-----\n",
            "1.0\n",
            "-----------------------------------------\n",
            "\n",
            "----testing score------------------\n",
            "0.9423076923076923\n",
            "\n",
            "------Confusion Matrix-------\n",
            "[[20  0  0  0  0]\n",
            " [ 0 17  0  1  0]\n",
            " [ 0  0  3  0  0]\n",
            " [ 0  0  0  5  0]\n",
            " [ 1  1  0  0  4]]\n"
          ]
        }
      ]
    },
    {
      "cell_type": "code",
      "source": [
        "#cross validation\n",
        "def cross_check(model,tr_model,x_scal,y,n):\n",
        "  cv=cross_val_score(model,x_scal,y,cv=n)\n",
        "  print(cv,'\\n')\n",
        "  print(\"%2.2f\"%(np.mean(cv)*100))\n",
        "\n",
        "  print('difference between model accuracy score and cross validation scor is : %2.2f '%((accuracy_score(y_test,tr_model.predict(x_test))-np.mean(cv))*100))"
      ],
      "metadata": {
        "id": "b-jzRC-RX-ll"
      },
      "execution_count": 56,
      "outputs": []
    },
    {
      "cell_type": "code",
      "source": [
        "#cross vlidation of LogisticRegression\n",
        "cross_check(LogisticRegression(),lc,x_scal,y,20)"
      ],
      "metadata": {
        "colab": {
          "base_uri": "https://localhost:8080/"
        },
        "id": "bcfpMOF5Y3m8",
        "outputId": "366ad8d0-0446-4b82-ee2e-3c97e877b7a0"
      },
      "execution_count": 57,
      "outputs": [
        {
          "output_type": "stream",
          "name": "stdout",
          "text": [
            "[0.90909091 0.72727273 0.81818182 1.         1.         1.\n",
            " 0.9        0.8        0.8        0.8        0.7        0.9\n",
            " 0.9        0.9        0.9        0.7        0.9        0.9\n",
            " 0.8        0.9       ] \n",
            "\n",
            "86.27\n",
            "difference between model accuracy score and cross validation scor is : 7.96 \n"
          ]
        }
      ]
    },
    {
      "cell_type": "code",
      "source": [
        "#cross vlidation of RandomForestClassifier\n",
        "cross_check(RandomForestClassifier(),rfr,x_scal,y,20)"
      ],
      "metadata": {
        "colab": {
          "base_uri": "https://localhost:8080/"
        },
        "id": "eK9qirfVbYHT",
        "outputId": "0bbad906-24c8-4585-decc-aa67010e9492"
      },
      "execution_count": 58,
      "outputs": [
        {
          "output_type": "stream",
          "name": "stdout",
          "text": [
            "[1.         1.         0.90909091 0.90909091 1.         1.\n",
            " 1.         0.9        0.9        1.         1.         1.\n",
            " 1.         1.         1.         0.9        1.         0.9\n",
            " 0.9        0.9       ] \n",
            "\n",
            "96.09\n",
            "difference between model accuracy score and cross validation scor is : 3.91 \n"
          ]
        }
      ]
    },
    {
      "cell_type": "code",
      "source": [
        "#cross vlidation of GradientBoostingClassifier\n",
        "cross_check(GradientBoostingClassifier(),gd,x_scal,y,20)"
      ],
      "metadata": {
        "colab": {
          "base_uri": "https://localhost:8080/"
        },
        "id": "042fyNGubYLA",
        "outputId": "c117e9b9-484e-4b38-eafa-876295f6fe0f"
      },
      "execution_count": 59,
      "outputs": [
        {
          "output_type": "stream",
          "name": "stdout",
          "text": [
            "[1.         1.         1.         0.81818182 1.         1.\n",
            " 1.         0.9        0.9        0.9        0.9        1.\n",
            " 1.         1.         0.9        0.8        0.9        0.9\n",
            " 0.9        0.8       ] \n",
            "\n",
            "93.09\n",
            "difference between model accuracy score and cross validation scor is : -0.78 \n"
          ]
        }
      ]
    },
    {
      "cell_type": "code",
      "source": [
        "#cross vlidation of BaggingClassifier\n",
        "cross_check(BaggingClassifier(),bg,x_scal,y,20)"
      ],
      "metadata": {
        "colab": {
          "base_uri": "https://localhost:8080/"
        },
        "id": "B8-Rb9EvbYO4",
        "outputId": "c87b3df3-8aab-43e8-ed8d-142c9c0810f4"
      },
      "execution_count": 60,
      "outputs": [
        {
          "output_type": "stream",
          "name": "stdout",
          "text": [
            "[1.         1.         1.         0.81818182 0.90909091 1.\n",
            " 1.         0.9        0.9        0.9        0.8        1.\n",
            " 1.         1.         0.9        0.9        1.         0.9\n",
            " 0.9        0.9       ] \n",
            "\n",
            "93.64\n",
            "difference between model accuracy score and cross validation scor is : 0.59 \n"
          ]
        }
      ]
    },
    {
      "cell_type": "code",
      "source": [
        "#cross vlidation of AdaBoostClassifier\n",
        "cross_check(AdaBoostClassifier(),ad,x_scal,y,20)"
      ],
      "metadata": {
        "colab": {
          "base_uri": "https://localhost:8080/"
        },
        "id": "Wacry_6XbYSf",
        "outputId": "b6bcac1d-42cf-4911-adec-583a30936e35"
      },
      "execution_count": 61,
      "outputs": [
        {
          "output_type": "stream",
          "name": "stdout",
          "text": [
            "[0.72727273 0.72727273 0.72727273 0.72727273 0.81818182 0.9\n",
            " 0.8        0.7        0.7        0.8        0.8        0.8\n",
            " 0.8        0.8        0.7        0.6        0.6        0.6\n",
            " 0.6        0.6       ] \n",
            "\n",
            "72.64\n",
            "difference between model accuracy score and cross validation scor is : 6.21 \n"
          ]
        }
      ]
    },
    {
      "cell_type": "code",
      "source": [
        "#cross vlidation of SVC\n",
        "cross_check(SVC(),svc,x_scal,y,20)"
      ],
      "metadata": {
        "colab": {
          "base_uri": "https://localhost:8080/"
        },
        "id": "MVSyaAJYbYYt",
        "outputId": "d6dbf702-6934-4a4c-beb6-4fce68a6fe59"
      },
      "execution_count": 62,
      "outputs": [
        {
          "output_type": "stream",
          "name": "stdout",
          "text": [
            "[0.90909091 0.90909091 1.         1.         1.         1.\n",
            " 0.9        0.9        0.8        0.9        1.         0.9\n",
            " 1.         1.         0.9        0.8        1.         0.9\n",
            " 0.9        0.9       ] \n",
            "\n",
            "93.09\n",
            "difference between model accuracy score and cross validation scor is : 6.91 \n"
          ]
        }
      ]
    },
    {
      "cell_type": "code",
      "source": [
        "#cross vlidation of KNeighborsClassifier\n",
        "cross_check(KNeighborsClassifier(),knn,x_scal,y,20)"
      ],
      "metadata": {
        "colab": {
          "base_uri": "https://localhost:8080/"
        },
        "id": "p8Dp3A8ERbLB",
        "outputId": "a6af1033-3ca1-4c2b-be6e-77faad380e57"
      },
      "execution_count": 63,
      "outputs": [
        {
          "output_type": "stream",
          "name": "stdout",
          "text": [
            "[0.90909091 0.90909091 0.90909091 1.         1.         1.\n",
            " 0.9        0.9        0.7        0.8        0.7        0.6\n",
            " 1.         1.         0.9        0.8        0.8        0.9\n",
            " 0.9        0.9       ] \n",
            "\n",
            "87.64\n",
            "difference between model accuracy score and cross validation scor is : 0.83 \n"
          ]
        }
      ]
    },
    {
      "cell_type": "code",
      "source": [
        "#cross vlidation of DecisionTreeClassifier\n",
        "cross_check(DecisionTreeClassifier(),dt,x_scal,y,20)"
      ],
      "metadata": {
        "colab": {
          "base_uri": "https://localhost:8080/"
        },
        "id": "rjdzrAfTYalB",
        "outputId": "5d6ea56e-c883-4fbf-e9ac-6f926fcd8338"
      },
      "execution_count": 64,
      "outputs": [
        {
          "output_type": "stream",
          "name": "stdout",
          "text": [
            "[1.         1.         1.         0.72727273 0.90909091 1.\n",
            " 0.9        0.9        0.9        0.9        0.8        1.\n",
            " 1.         1.         0.9        0.7        1.         0.9\n",
            " 0.9        0.9       ] \n",
            "\n",
            "91.68\n",
            "difference between model accuracy score and cross validation scor is : 2.55 \n"
          ]
        }
      ]
    },
    {
      "cell_type": "code",
      "source": [
        "param_grid = {\n",
        "    'n_estimators': [10, 50, 100],\n",
        "    'max_samples': [0.5, 1.0],\n",
        "    'max_features': [0.5, 1.0],\n",
        "    'bootstrap': [True, False]\n",
        "}\n",
        "\n",
        "# Perform grid search\n",
        "grid_search = GridSearchCV(BaggingClassifier(), param_grid, cv=5)\n",
        "grid_search.fit(x_scal, y)\n",
        "\n",
        "# Print the best parameters and the best score\n",
        "print(\"Best parameters: \", grid_search.best_params_)\n",
        "print(\"Best score: \", grid_search.best_score_)\n",
        "\n",
        "\n"
      ],
      "metadata": {
        "colab": {
          "base_uri": "https://localhost:8080/"
        },
        "id": "2kCYlotaWp38",
        "outputId": "61a41613-6d14-450e-8ab1-f45f71fa4f8a"
      },
      "execution_count": 65,
      "outputs": [
        {
          "output_type": "stream",
          "name": "stdout",
          "text": [
            "Best parameters:  {'bootstrap': True, 'max_features': 0.5, 'max_samples': 0.5, 'n_estimators': 100}\n",
            "Best score:  0.9609756097560975\n"
          ]
        }
      ]
    },
    {
      "cell_type": "code",
      "source": [
        "#training final model\n",
        "tr_bg=fit_model(BaggingClassifier(bootstrap=True,max_features=0.5,max_samples=0.5,n_estimators=100),x_train,x_test,y_train,y_test)"
      ],
      "metadata": {
        "colab": {
          "base_uri": "https://localhost:8080/"
        },
        "id": "kUoTM0r-ZttR",
        "outputId": "44b582f1-7226-4056-845e-5fabec098e10"
      },
      "execution_count": 66,
      "outputs": [
        {
          "output_type": "stream",
          "name": "stdout",
          "text": [
            "----Training Score-----\n",
            "1.0\n",
            "-----------------------------------------\n",
            "\n",
            "----testing score------------------\n",
            "0.9807692307692307\n",
            "\n",
            "------Confusion Matrix-------\n",
            "[[20  0  0  0  0]\n",
            " [ 0 18  0  0  0]\n",
            " [ 0  0  3  0  0]\n",
            " [ 0  0  0  4  1]\n",
            " [ 0  0  0  0  6]]\n"
          ]
        }
      ]
    },
    {
      "cell_type": "code",
      "source": [
        "# Saving model\n",
        "import pickle\n",
        "pickle.dump(tr_bg,open('Glassdataset_BaggingClassifierr.sav','wb'))"
      ],
      "metadata": {
        "id": "IWMuR10TazTM"
      },
      "execution_count": 67,
      "outputs": []
    },
    {
      "cell_type": "code",
      "source": [
        "# Loading Model\n",
        "model=pickle.load(open('Glassdataset_BaggingClassifierr.sav','rb'))"
      ],
      "metadata": {
        "id": "o9FNxRs4bH6J"
      },
      "execution_count": 68,
      "outputs": []
    },
    {
      "cell_type": "code",
      "source": [
        "cmp_df=pd.DataFrame()\n",
        "cmp_df['y_test']=y_test\n",
        "cmp_df['y_predicted']=model.predict(x_test)\n",
        "cmp_df"
      ],
      "metadata": {
        "colab": {
          "base_uri": "https://localhost:8080/",
          "height": 1000
        },
        "id": "Q9o0POmvbf8x",
        "outputId": "4ff600e2-c706-48fa-e14e-533ac612cd9d"
      },
      "execution_count": 69,
      "outputs": [
        {
          "output_type": "execute_result",
          "data": {
            "text/plain": [
              "     y_test  y_predicted\n",
              "78        2            2\n",
              "97        2            2\n",
              "151       3            3\n",
              "44        1            1\n",
              "40        1            1\n",
              "67        1            1\n",
              "98        2            2\n",
              "18        1            1\n",
              "152       3            3\n",
              "62        1            1\n",
              "4         1            1\n",
              "172       5            5\n",
              "206       7            7\n",
              "38        1            1\n",
              "29        1            1\n",
              "170       5            5\n",
              "199       7            7\n",
              "33        1            1\n",
              "136       2            2\n",
              "145       2            2\n",
              "173       5            5\n",
              "31        1            1\n",
              "11        1            1\n",
              "119       2            2\n",
              "169       5            5\n",
              "34        1            1\n",
              "84        2            2\n",
              "193       7            7\n",
              "120       2            2\n",
              "35        1            1\n",
              "163       5            7\n",
              "28        1            1\n",
              "16        1            1\n",
              "130       2            2\n",
              "116       2            2\n",
              "191       7            7\n",
              "27        1            1\n",
              "47        1            1\n",
              "58        1            1\n",
              "213       7            7\n",
              "138       2            2\n",
              "106       2            2\n",
              "90        2            2\n",
              "147       3            3\n",
              "194       7            7\n",
              "95        2            2\n",
              "73        2            2\n",
              "51        1            1\n",
              "117       2            2\n",
              "103       2            2\n",
              "69        1            1\n",
              "107       2            2"
            ],
            "text/html": [
              "\n",
              "  <div id=\"df-8e656b26-851f-4d59-b0a6-3e034333d8ad\" class=\"colab-df-container\">\n",
              "    <div>\n",
              "<style scoped>\n",
              "    .dataframe tbody tr th:only-of-type {\n",
              "        vertical-align: middle;\n",
              "    }\n",
              "\n",
              "    .dataframe tbody tr th {\n",
              "        vertical-align: top;\n",
              "    }\n",
              "\n",
              "    .dataframe thead th {\n",
              "        text-align: right;\n",
              "    }\n",
              "</style>\n",
              "<table border=\"1\" class=\"dataframe\">\n",
              "  <thead>\n",
              "    <tr style=\"text-align: right;\">\n",
              "      <th></th>\n",
              "      <th>y_test</th>\n",
              "      <th>y_predicted</th>\n",
              "    </tr>\n",
              "  </thead>\n",
              "  <tbody>\n",
              "    <tr>\n",
              "      <th>78</th>\n",
              "      <td>2</td>\n",
              "      <td>2</td>\n",
              "    </tr>\n",
              "    <tr>\n",
              "      <th>97</th>\n",
              "      <td>2</td>\n",
              "      <td>2</td>\n",
              "    </tr>\n",
              "    <tr>\n",
              "      <th>151</th>\n",
              "      <td>3</td>\n",
              "      <td>3</td>\n",
              "    </tr>\n",
              "    <tr>\n",
              "      <th>44</th>\n",
              "      <td>1</td>\n",
              "      <td>1</td>\n",
              "    </tr>\n",
              "    <tr>\n",
              "      <th>40</th>\n",
              "      <td>1</td>\n",
              "      <td>1</td>\n",
              "    </tr>\n",
              "    <tr>\n",
              "      <th>67</th>\n",
              "      <td>1</td>\n",
              "      <td>1</td>\n",
              "    </tr>\n",
              "    <tr>\n",
              "      <th>98</th>\n",
              "      <td>2</td>\n",
              "      <td>2</td>\n",
              "    </tr>\n",
              "    <tr>\n",
              "      <th>18</th>\n",
              "      <td>1</td>\n",
              "      <td>1</td>\n",
              "    </tr>\n",
              "    <tr>\n",
              "      <th>152</th>\n",
              "      <td>3</td>\n",
              "      <td>3</td>\n",
              "    </tr>\n",
              "    <tr>\n",
              "      <th>62</th>\n",
              "      <td>1</td>\n",
              "      <td>1</td>\n",
              "    </tr>\n",
              "    <tr>\n",
              "      <th>4</th>\n",
              "      <td>1</td>\n",
              "      <td>1</td>\n",
              "    </tr>\n",
              "    <tr>\n",
              "      <th>172</th>\n",
              "      <td>5</td>\n",
              "      <td>5</td>\n",
              "    </tr>\n",
              "    <tr>\n",
              "      <th>206</th>\n",
              "      <td>7</td>\n",
              "      <td>7</td>\n",
              "    </tr>\n",
              "    <tr>\n",
              "      <th>38</th>\n",
              "      <td>1</td>\n",
              "      <td>1</td>\n",
              "    </tr>\n",
              "    <tr>\n",
              "      <th>29</th>\n",
              "      <td>1</td>\n",
              "      <td>1</td>\n",
              "    </tr>\n",
              "    <tr>\n",
              "      <th>170</th>\n",
              "      <td>5</td>\n",
              "      <td>5</td>\n",
              "    </tr>\n",
              "    <tr>\n",
              "      <th>199</th>\n",
              "      <td>7</td>\n",
              "      <td>7</td>\n",
              "    </tr>\n",
              "    <tr>\n",
              "      <th>33</th>\n",
              "      <td>1</td>\n",
              "      <td>1</td>\n",
              "    </tr>\n",
              "    <tr>\n",
              "      <th>136</th>\n",
              "      <td>2</td>\n",
              "      <td>2</td>\n",
              "    </tr>\n",
              "    <tr>\n",
              "      <th>145</th>\n",
              "      <td>2</td>\n",
              "      <td>2</td>\n",
              "    </tr>\n",
              "    <tr>\n",
              "      <th>173</th>\n",
              "      <td>5</td>\n",
              "      <td>5</td>\n",
              "    </tr>\n",
              "    <tr>\n",
              "      <th>31</th>\n",
              "      <td>1</td>\n",
              "      <td>1</td>\n",
              "    </tr>\n",
              "    <tr>\n",
              "      <th>11</th>\n",
              "      <td>1</td>\n",
              "      <td>1</td>\n",
              "    </tr>\n",
              "    <tr>\n",
              "      <th>119</th>\n",
              "      <td>2</td>\n",
              "      <td>2</td>\n",
              "    </tr>\n",
              "    <tr>\n",
              "      <th>169</th>\n",
              "      <td>5</td>\n",
              "      <td>5</td>\n",
              "    </tr>\n",
              "    <tr>\n",
              "      <th>34</th>\n",
              "      <td>1</td>\n",
              "      <td>1</td>\n",
              "    </tr>\n",
              "    <tr>\n",
              "      <th>84</th>\n",
              "      <td>2</td>\n",
              "      <td>2</td>\n",
              "    </tr>\n",
              "    <tr>\n",
              "      <th>193</th>\n",
              "      <td>7</td>\n",
              "      <td>7</td>\n",
              "    </tr>\n",
              "    <tr>\n",
              "      <th>120</th>\n",
              "      <td>2</td>\n",
              "      <td>2</td>\n",
              "    </tr>\n",
              "    <tr>\n",
              "      <th>35</th>\n",
              "      <td>1</td>\n",
              "      <td>1</td>\n",
              "    </tr>\n",
              "    <tr>\n",
              "      <th>163</th>\n",
              "      <td>5</td>\n",
              "      <td>7</td>\n",
              "    </tr>\n",
              "    <tr>\n",
              "      <th>28</th>\n",
              "      <td>1</td>\n",
              "      <td>1</td>\n",
              "    </tr>\n",
              "    <tr>\n",
              "      <th>16</th>\n",
              "      <td>1</td>\n",
              "      <td>1</td>\n",
              "    </tr>\n",
              "    <tr>\n",
              "      <th>130</th>\n",
              "      <td>2</td>\n",
              "      <td>2</td>\n",
              "    </tr>\n",
              "    <tr>\n",
              "      <th>116</th>\n",
              "      <td>2</td>\n",
              "      <td>2</td>\n",
              "    </tr>\n",
              "    <tr>\n",
              "      <th>191</th>\n",
              "      <td>7</td>\n",
              "      <td>7</td>\n",
              "    </tr>\n",
              "    <tr>\n",
              "      <th>27</th>\n",
              "      <td>1</td>\n",
              "      <td>1</td>\n",
              "    </tr>\n",
              "    <tr>\n",
              "      <th>47</th>\n",
              "      <td>1</td>\n",
              "      <td>1</td>\n",
              "    </tr>\n",
              "    <tr>\n",
              "      <th>58</th>\n",
              "      <td>1</td>\n",
              "      <td>1</td>\n",
              "    </tr>\n",
              "    <tr>\n",
              "      <th>213</th>\n",
              "      <td>7</td>\n",
              "      <td>7</td>\n",
              "    </tr>\n",
              "    <tr>\n",
              "      <th>138</th>\n",
              "      <td>2</td>\n",
              "      <td>2</td>\n",
              "    </tr>\n",
              "    <tr>\n",
              "      <th>106</th>\n",
              "      <td>2</td>\n",
              "      <td>2</td>\n",
              "    </tr>\n",
              "    <tr>\n",
              "      <th>90</th>\n",
              "      <td>2</td>\n",
              "      <td>2</td>\n",
              "    </tr>\n",
              "    <tr>\n",
              "      <th>147</th>\n",
              "      <td>3</td>\n",
              "      <td>3</td>\n",
              "    </tr>\n",
              "    <tr>\n",
              "      <th>194</th>\n",
              "      <td>7</td>\n",
              "      <td>7</td>\n",
              "    </tr>\n",
              "    <tr>\n",
              "      <th>95</th>\n",
              "      <td>2</td>\n",
              "      <td>2</td>\n",
              "    </tr>\n",
              "    <tr>\n",
              "      <th>73</th>\n",
              "      <td>2</td>\n",
              "      <td>2</td>\n",
              "    </tr>\n",
              "    <tr>\n",
              "      <th>51</th>\n",
              "      <td>1</td>\n",
              "      <td>1</td>\n",
              "    </tr>\n",
              "    <tr>\n",
              "      <th>117</th>\n",
              "      <td>2</td>\n",
              "      <td>2</td>\n",
              "    </tr>\n",
              "    <tr>\n",
              "      <th>103</th>\n",
              "      <td>2</td>\n",
              "      <td>2</td>\n",
              "    </tr>\n",
              "    <tr>\n",
              "      <th>69</th>\n",
              "      <td>1</td>\n",
              "      <td>1</td>\n",
              "    </tr>\n",
              "    <tr>\n",
              "      <th>107</th>\n",
              "      <td>2</td>\n",
              "      <td>2</td>\n",
              "    </tr>\n",
              "  </tbody>\n",
              "</table>\n",
              "</div>\n",
              "    <div class=\"colab-df-buttons\">\n",
              "\n",
              "  <div class=\"colab-df-container\">\n",
              "    <button class=\"colab-df-convert\" onclick=\"convertToInteractive('df-8e656b26-851f-4d59-b0a6-3e034333d8ad')\"\n",
              "            title=\"Convert this dataframe to an interactive table.\"\n",
              "            style=\"display:none;\">\n",
              "\n",
              "  <svg xmlns=\"http://www.w3.org/2000/svg\" height=\"24px\" viewBox=\"0 -960 960 960\">\n",
              "    <path d=\"M120-120v-720h720v720H120Zm60-500h600v-160H180v160Zm220 220h160v-160H400v160Zm0 220h160v-160H400v160ZM180-400h160v-160H180v160Zm440 0h160v-160H620v160ZM180-180h160v-160H180v160Zm440 0h160v-160H620v160Z\"/>\n",
              "  </svg>\n",
              "    </button>\n",
              "\n",
              "  <style>\n",
              "    .colab-df-container {\n",
              "      display:flex;\n",
              "      gap: 12px;\n",
              "    }\n",
              "\n",
              "    .colab-df-convert {\n",
              "      background-color: #E8F0FE;\n",
              "      border: none;\n",
              "      border-radius: 50%;\n",
              "      cursor: pointer;\n",
              "      display: none;\n",
              "      fill: #1967D2;\n",
              "      height: 32px;\n",
              "      padding: 0 0 0 0;\n",
              "      width: 32px;\n",
              "    }\n",
              "\n",
              "    .colab-df-convert:hover {\n",
              "      background-color: #E2EBFA;\n",
              "      box-shadow: 0px 1px 2px rgba(60, 64, 67, 0.3), 0px 1px 3px 1px rgba(60, 64, 67, 0.15);\n",
              "      fill: #174EA6;\n",
              "    }\n",
              "\n",
              "    .colab-df-buttons div {\n",
              "      margin-bottom: 4px;\n",
              "    }\n",
              "\n",
              "    [theme=dark] .colab-df-convert {\n",
              "      background-color: #3B4455;\n",
              "      fill: #D2E3FC;\n",
              "    }\n",
              "\n",
              "    [theme=dark] .colab-df-convert:hover {\n",
              "      background-color: #434B5C;\n",
              "      box-shadow: 0px 1px 3px 1px rgba(0, 0, 0, 0.15);\n",
              "      filter: drop-shadow(0px 1px 2px rgba(0, 0, 0, 0.3));\n",
              "      fill: #FFFFFF;\n",
              "    }\n",
              "  </style>\n",
              "\n",
              "    <script>\n",
              "      const buttonEl =\n",
              "        document.querySelector('#df-8e656b26-851f-4d59-b0a6-3e034333d8ad button.colab-df-convert');\n",
              "      buttonEl.style.display =\n",
              "        google.colab.kernel.accessAllowed ? 'block' : 'none';\n",
              "\n",
              "      async function convertToInteractive(key) {\n",
              "        const element = document.querySelector('#df-8e656b26-851f-4d59-b0a6-3e034333d8ad');\n",
              "        const dataTable =\n",
              "          await google.colab.kernel.invokeFunction('convertToInteractive',\n",
              "                                                    [key], {});\n",
              "        if (!dataTable) return;\n",
              "\n",
              "        const docLinkHtml = 'Like what you see? Visit the ' +\n",
              "          '<a target=\"_blank\" href=https://colab.research.google.com/notebooks/data_table.ipynb>data table notebook</a>'\n",
              "          + ' to learn more about interactive tables.';\n",
              "        element.innerHTML = '';\n",
              "        dataTable['output_type'] = 'display_data';\n",
              "        await google.colab.output.renderOutput(dataTable, element);\n",
              "        const docLink = document.createElement('div');\n",
              "        docLink.innerHTML = docLinkHtml;\n",
              "        element.appendChild(docLink);\n",
              "      }\n",
              "    </script>\n",
              "  </div>\n",
              "\n",
              "\n",
              "<div id=\"df-375b2d3d-1aa3-4a81-b0d9-b383ac4a81d1\">\n",
              "  <button class=\"colab-df-quickchart\" onclick=\"quickchart('df-375b2d3d-1aa3-4a81-b0d9-b383ac4a81d1')\"\n",
              "            title=\"Suggest charts.\"\n",
              "            style=\"display:none;\">\n",
              "\n",
              "<svg xmlns=\"http://www.w3.org/2000/svg\" height=\"24px\"viewBox=\"0 0 24 24\"\n",
              "     width=\"24px\">\n",
              "    <g>\n",
              "        <path d=\"M19 3H5c-1.1 0-2 .9-2 2v14c0 1.1.9 2 2 2h14c1.1 0 2-.9 2-2V5c0-1.1-.9-2-2-2zM9 17H7v-7h2v7zm4 0h-2V7h2v10zm4 0h-2v-4h2v4z\"/>\n",
              "    </g>\n",
              "</svg>\n",
              "  </button>\n",
              "\n",
              "<style>\n",
              "  .colab-df-quickchart {\n",
              "      --bg-color: #E8F0FE;\n",
              "      --fill-color: #1967D2;\n",
              "      --hover-bg-color: #E2EBFA;\n",
              "      --hover-fill-color: #174EA6;\n",
              "      --disabled-fill-color: #AAA;\n",
              "      --disabled-bg-color: #DDD;\n",
              "  }\n",
              "\n",
              "  [theme=dark] .colab-df-quickchart {\n",
              "      --bg-color: #3B4455;\n",
              "      --fill-color: #D2E3FC;\n",
              "      --hover-bg-color: #434B5C;\n",
              "      --hover-fill-color: #FFFFFF;\n",
              "      --disabled-bg-color: #3B4455;\n",
              "      --disabled-fill-color: #666;\n",
              "  }\n",
              "\n",
              "  .colab-df-quickchart {\n",
              "    background-color: var(--bg-color);\n",
              "    border: none;\n",
              "    border-radius: 50%;\n",
              "    cursor: pointer;\n",
              "    display: none;\n",
              "    fill: var(--fill-color);\n",
              "    height: 32px;\n",
              "    padding: 0;\n",
              "    width: 32px;\n",
              "  }\n",
              "\n",
              "  .colab-df-quickchart:hover {\n",
              "    background-color: var(--hover-bg-color);\n",
              "    box-shadow: 0 1px 2px rgba(60, 64, 67, 0.3), 0 1px 3px 1px rgba(60, 64, 67, 0.15);\n",
              "    fill: var(--button-hover-fill-color);\n",
              "  }\n",
              "\n",
              "  .colab-df-quickchart-complete:disabled,\n",
              "  .colab-df-quickchart-complete:disabled:hover {\n",
              "    background-color: var(--disabled-bg-color);\n",
              "    fill: var(--disabled-fill-color);\n",
              "    box-shadow: none;\n",
              "  }\n",
              "\n",
              "  .colab-df-spinner {\n",
              "    border: 2px solid var(--fill-color);\n",
              "    border-color: transparent;\n",
              "    border-bottom-color: var(--fill-color);\n",
              "    animation:\n",
              "      spin 1s steps(1) infinite;\n",
              "  }\n",
              "\n",
              "  @keyframes spin {\n",
              "    0% {\n",
              "      border-color: transparent;\n",
              "      border-bottom-color: var(--fill-color);\n",
              "      border-left-color: var(--fill-color);\n",
              "    }\n",
              "    20% {\n",
              "      border-color: transparent;\n",
              "      border-left-color: var(--fill-color);\n",
              "      border-top-color: var(--fill-color);\n",
              "    }\n",
              "    30% {\n",
              "      border-color: transparent;\n",
              "      border-left-color: var(--fill-color);\n",
              "      border-top-color: var(--fill-color);\n",
              "      border-right-color: var(--fill-color);\n",
              "    }\n",
              "    40% {\n",
              "      border-color: transparent;\n",
              "      border-right-color: var(--fill-color);\n",
              "      border-top-color: var(--fill-color);\n",
              "    }\n",
              "    60% {\n",
              "      border-color: transparent;\n",
              "      border-right-color: var(--fill-color);\n",
              "    }\n",
              "    80% {\n",
              "      border-color: transparent;\n",
              "      border-right-color: var(--fill-color);\n",
              "      border-bottom-color: var(--fill-color);\n",
              "    }\n",
              "    90% {\n",
              "      border-color: transparent;\n",
              "      border-bottom-color: var(--fill-color);\n",
              "    }\n",
              "  }\n",
              "</style>\n",
              "\n",
              "  <script>\n",
              "    async function quickchart(key) {\n",
              "      const quickchartButtonEl =\n",
              "        document.querySelector('#' + key + ' button');\n",
              "      quickchartButtonEl.disabled = true;  // To prevent multiple clicks.\n",
              "      quickchartButtonEl.classList.add('colab-df-spinner');\n",
              "      try {\n",
              "        const charts = await google.colab.kernel.invokeFunction(\n",
              "            'suggestCharts', [key], {});\n",
              "      } catch (error) {\n",
              "        console.error('Error during call to suggestCharts:', error);\n",
              "      }\n",
              "      quickchartButtonEl.classList.remove('colab-df-spinner');\n",
              "      quickchartButtonEl.classList.add('colab-df-quickchart-complete');\n",
              "    }\n",
              "    (() => {\n",
              "      let quickchartButtonEl =\n",
              "        document.querySelector('#df-375b2d3d-1aa3-4a81-b0d9-b383ac4a81d1 button');\n",
              "      quickchartButtonEl.style.display =\n",
              "        google.colab.kernel.accessAllowed ? 'block' : 'none';\n",
              "    })();\n",
              "  </script>\n",
              "</div>\n",
              "    </div>\n",
              "  </div>\n"
            ]
          },
          "metadata": {},
          "execution_count": 69
        }
      ]
    }
  ]
}
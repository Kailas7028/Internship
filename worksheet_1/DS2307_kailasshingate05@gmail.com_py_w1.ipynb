{
 "cells": [
  {
   "cell_type": "raw",
   "id": "81f5b4e8",
   "metadata": {},
   "source": [
    "1. Which of the following operators is used to calculate remainder in a division?\n",
    "C) % \n",
    "\n",
    "2. In python 2//3 is equal to?\n",
    "B) 0\n",
    "\n",
    "3. In python, 6<<2 is equal to?\n",
    "C) 24\n",
    "\n",
    "4. In python, 6&2 will give which of the following as output?\n",
    "A) 2 \n",
    "\n",
    "5. In python, 6|2 will give which of the following as output?\n",
    "D) 6\n",
    "\n",
    "6. What does the finally keyword denotes in python?\n",
    "C) the finally block will be executed no matter if the try block raises an error or not.\n",
    "\n",
    "7. What does raise keyword is used for in python?\n",
    "A) It is used to raise an exception.\n",
    "\n",
    "8. Which of the following is a common use case of yield keyword in python?\n",
    "C) in defining a generator "
   ]
  },
  {
   "cell_type": "raw",
   "id": "3dc9c045",
   "metadata": {},
   "source": [
    "9. Which of the following are the valid variable names?\n",
    "A) _abc\n",
    "C) abc2\n",
    "\n",
    "10. Which of the following are the keywords in python?\n",
    "A) yield B) raise\n"
   ]
  },
  {
   "cell_type": "markdown",
   "id": "d81faa84",
   "metadata": {},
   "source": [
    "# 11. Write a python program to find the factorial of a number."
   ]
  },
  {
   "cell_type": "code",
   "execution_count": 15,
   "id": "f3ae912d",
   "metadata": {},
   "outputs": [
    {
     "name": "stdout",
     "output_type": "stream",
     "text": [
      "Enter Number 6\n",
      "factorial of 6 is 720\n"
     ]
    }
   ],
   "source": [
    "def factorial(n):\n",
    "    if (n==1 or n==0):\n",
    "        return 1\n",
    "    else:\n",
    "        return (n * factorial(n-1))\n",
    "n=int(input('Enter Number '))\n",
    "result=factorial(n)\n",
    "print(f'factorial of {n} is {result}')"
   ]
  },
  {
   "cell_type": "markdown",
   "id": "558201f0",
   "metadata": {},
   "source": [
    "# 12. Write a python program to find whether a number is prime or composite."
   ]
  },
  {
   "cell_type": "code",
   "execution_count": 52,
   "id": "400bdd9e",
   "metadata": {},
   "outputs": [
    {
     "name": "stdout",
     "output_type": "stream",
     "text": [
      "Enter number(note: 1 is not a either prime or composite number): 11\n",
      "11 is a Prime Number with following divisors:\n",
      "[1, 11]\n"
     ]
    }
   ],
   "source": [
    "def prime_or_composite(n):\n",
    "    divisor=[]\n",
    "    divisor.clear()\n",
    "    for i in range(1,n+1):\n",
    "        if n%i==0:\n",
    "            divisor.append(i)\n",
    "    return f'{n} is a Prime Number with following divisors:\\n{divisor}' if len(divisor)==2 else f'{n} is a Composite Number with following divisors:\\n {divisor}'\n",
    "   \n",
    "try:\n",
    "    n=int(input('Enter number(note: 1 is not a either prime or composite number): '))\n",
    "    if n==1:\n",
    "        raise Exception('Enter number gretter than one')\n",
    "    print(prime_or_composite(n))\n",
    "except Exception as e:\n",
    "    print(e)\n",
    "\n"
   ]
  },
  {
   "cell_type": "markdown",
   "id": "d939ddbc",
   "metadata": {},
   "source": [
    "# 13. Write a python program to check whether a given string is palindrome or not."
   ]
  },
  {
   "cell_type": "code",
   "execution_count": 66,
   "id": "67caca6b",
   "metadata": {},
   "outputs": [
    {
     "name": "stdout",
     "output_type": "stream",
     "text": [
      "Enter the string: axa\n",
      "axa axa\n",
      "axa is Palindrom string\n"
     ]
    }
   ],
   "source": [
    "def palindrom(string):\n",
    "    string2=string[::-1]\n",
    "    \n",
    "    if string==string2:\n",
    "        print(f'{string} is Palindrom string')\n",
    "    else:\n",
    "        print(f'{string} is not a Palindrom string')\n",
    "        \n",
    "palindrom(input('Enter the string: '))"
   ]
  },
  {
   "cell_type": "markdown",
   "id": "d8635e41",
   "metadata": {},
   "source": [
    "# 14. Write a Python program to get the third side of right-angled triangle from two given sides"
   ]
  },
  {
   "cell_type": "code",
   "execution_count": 1,
   "id": "eec50b3b",
   "metadata": {},
   "outputs": [],
   "source": [
    "import math"
   ]
  },
  {
   "cell_type": "code",
   "execution_count": 12,
   "id": "126552d1",
   "metadata": {},
   "outputs": [
    {
     "name": "stdout",
     "output_type": "stream",
     "text": [
      "hypotenuse = 5.830951894845301\n"
     ]
    }
   ],
   "source": [
    "\n",
    "def Rtringale(base,Perpendicular,hypotenuse):\n",
    "    #pythogoras formula h**2=b**2+p**2\n",
    "            \n",
    "    if base==None:\n",
    "        \n",
    "        base=(hypotenuse**2)-(Perpendicular**2)\n",
    "        return f'base = {math.sqrt(base)}'\n",
    "    elif Perpendicular==None:\n",
    "        \n",
    "        Perpendicular=(hypotenuse**2)-(base**2)\n",
    "        return f'Perpendicular = {math.sqrt(Perpendicular)}'\n",
    "    elif hypotenuse==None:\n",
    "        \n",
    "        hypotenuse=(Perpendicular**2)+(base**2)\n",
    "        return f'hypotenuse = {math.sqrt(hypotenuse)}'\n",
    "    else:\n",
    "        pass\n",
    "    \n",
    "    \n",
    "print(Rtringale(3,5,None))\n"
   ]
  },
  {
   "cell_type": "markdown",
   "id": "b22a0e90",
   "metadata": {},
   "source": [
    "# 15. Write a python program to print the frequency of each of the characters present in a given string"
   ]
  },
  {
   "cell_type": "code",
   "execution_count": 12,
   "id": "452a0ace",
   "metadata": {},
   "outputs": [
    {
     "name": "stdout",
     "output_type": "stream",
     "text": [
      "{'I': 1, 'a': 2, 'm': 1, 'E': 1, 'x': 1, 'c': 1, 'i': 1, 't': 2, 'e': 2, 'd': 1, 'o': 1, 'l': 1, 'r': 1, 'n': 1}\n"
     ]
    }
   ],
   "source": [
    "def charFrq(string):\n",
    "    stringDetails={}\n",
    "    for i in string:\n",
    "        if i in stringDetails.keys():\n",
    "            stringDetails[i]=stringDetails[i]+1\n",
    "        else:\n",
    "            if i!=' ':\n",
    "                stringDetails[i]=1\n",
    "            else:\n",
    "                continue\n",
    "            \n",
    "    print(stringDetails)\n",
    "        \n",
    "       \n",
    "        \n",
    "\n",
    "charFrq('I am Excited to learn')"
   ]
  },
  {
   "cell_type": "code",
   "execution_count": null,
   "id": "becaa21b",
   "metadata": {},
   "outputs": [],
   "source": []
  }
 ],
 "metadata": {
  "kernelspec": {
   "display_name": "Python 3 (ipykernel)",
   "language": "python",
   "name": "python3"
  },
  "language_info": {
   "codemirror_mode": {
    "name": "ipython",
    "version": 3
   },
   "file_extension": ".py",
   "mimetype": "text/x-python",
   "name": "python",
   "nbconvert_exporter": "python",
   "pygments_lexer": "ipython3",
   "version": "3.9.12"
  }
 },
 "nbformat": 4,
 "nbformat_minor": 5
}
